{
 "cells": [
  {
   "cell_type": "markdown",
   "metadata": {},
   "source": [
    "## 实验：感知机基础运算"
   ]
  },
  {
   "cell_type": "markdown",
   "metadata": {},
   "source": [
    "### 实验概要\n",
    "\n",
    "感知机（**perceptron**）是神经网络的组成成分，也被称为神经元。感知机是由美国学者 Frank Rosenblatt 在 1957 年提出来的。因为感知机也是作为神经网络（深度学习）的起源的算法。因此，学习感知机的构造也就是学习通向神经网络和深度学习的一种重要思想。\n",
    "\n",
    "感知机接收多个输入信号，输出一个信号。这里所说的信号，可以想象成电流或河流那样具备流动性的东西。像电流流过导线，向前方输送电子一样，感知机的信号也会形成流，向前方输送信息。但是，和实际的电流不同的是，感知机的信号只有 `传递信号` / `不传递信号` （**`1`** / **`0`**）两种取值。"
   ]
  },
  {
   "cell_type": "markdown",
   "metadata": {},
   "source": [
    "#### 感知器定义\n",
    "\n",
    "下面是一个感知机，如图：\n",
    "\n",
    "![](img/1_02.png)\n",
    "\n",
    "一个感知机由图下部分组成：\n",
    "\n",
    "1. **输入权值：** 一个感知机可以接收多个输入 ${(x_1,x_2,...,x_n)}$，每个输入上有一个 **权重值** $w_i$ 和一个偏置项 **b**\n",
    "2. **激活函数：** 感知机的激活函数可以有很多选择，比如：我们可以选择 **阶跃函数** 作为 **激活函数** ——\n",
    "\n",
    "$$\n",
    "h(x)=\\left\\{\\begin{array}{ll}\n",
    "0 & (x \\leqslant 0) \\\\\n",
    "1 & (x>0)\n",
    "\\end{array}\\right.\n",
    "$$\n",
    "\n",
    "    注：事实上自变量为 0 时的函数值在函数应用上并不重要，可以任意取。\n",
    "\n",
    "3. **输出：** 当我们选择 **阶跃函数** 作为 **激活函数** 时，感知机的输出可以由下面这个公式来计算：\n",
    "\n",
    "$$\n",
    "y=\\left\\{\\begin{array}{ll}\n",
    "0 & \\left(b+w_{1} x_{1}+ ... w_{n} x_{n} \\leqslant 0\\right) \\\\\n",
    "1 & \\left(b+w_{1} x_{1}+ ... w_{n} x_{n}>0\\right)\n",
    "\\end{array}\\right.\n",
    "$$\n",
    "\n",
    "感知机（严格而言称为：**朴素感知机**）可以实现 **逻辑与**、**逻辑或** 等逻辑运算。例如：\n",
    "\n",
    "- **激活函数** 采用上面的阶跃函数，当 $w_1=0.5$，$w_2=0.5$，$b=-0.8$ 时，我们的感知机就相当于 **逻辑与门**。使用公式来验证一下。\n",
    "- 将 $x_1=1$，$x_2=1$ 代入到公式中可得：\n",
    "  \n",
    "  $$y=f(wx+b)=f(w_{1}x_{1}+w_{2}x_{2}+b)=f(0.5*1+0.5*1+(-0.8))=0.2 > 0$$\n",
    "  \n",
    "  所以 **y = 1**\n",
    "  \n",
    "\n",
    "- 同样的，当你取不同的权重和偏置，就可以实现不同的逻辑运算。"
   ]
  },
  {
   "cell_type": "markdown",
   "metadata": {},
   "source": [
    "### 实验目标\n",
    "\n",
    "本实验将实现简单的感知机逻辑运算，在实验操作中，你会发现：与门、与非门、或门是具有相同构造的感知机，区别只在于设置不同的权重、偏置参数的值。另外，你还会通过多个感知机的叠加，通过多层感知机解决单个感知机无法区分的非线性分类问题。最后，你将通过 Python 绘制绘制阶跃函数的图形，如下图：\n",
    "\n",
    "![](./img/Stepfunction_02.png)"
   ]
  },
  {
   "cell_type": "markdown",
   "metadata": {},
   "source": [
    "### 1. 与门 (AND gate) 运算\n",
    "\n",
    "与门 (AND gate) 运算仅在两个输入均为 `1` 时输出 `1`，其他时候则输出 `0`。与门 (AND gate) 运算运算真值表如下：\n",
    "\n",
    "![](./img/and_02.png)\n",
    "\n",
    "令：**w1=0.5, w2=0.5, b=-0.7** 实现与运算："
   ]
  },
  {
   "cell_type": "code",
   "execution_count": 1,
   "metadata": {},
   "outputs": [
    {
     "name": "stdout",
     "output_type": "stream",
     "text": [
      "(0, 0) -> 0\n",
      "(1, 0) -> 0\n",
      "(0, 1) -> 0\n",
      "(1, 1) -> 1\n"
     ]
    }
   ],
   "source": [
    "# 导入numpy科学运算库\n",
    "import numpy as np             \n",
    "\n",
    "# 定义与门(AND gate)运算函数\n",
    "def AND(x1, x2):\n",
    "    # 输入\n",
    "    x = np.array([x1, x2])     \n",
    "    # 权值\n",
    "    w = np.array([0.5, 0.5])   \n",
    "    # 偏置\n",
    "    b = -0.7                   \n",
    "    \n",
    "    # 定义感知机运算\n",
    "    tmp = np.sum(w*x) + b      \n",
    "    if tmp <= 0:               \n",
    "        # 当运算结果小于等于0，返回0\n",
    "        return 0\n",
    "    else:                      \n",
    "        # 否则返回1\n",
    "        return 1\n",
    "\n",
    "if __name__ == '__main__':\n",
    "    for xs in [(0, 0), (1, 0), (0, 1), (1, 1)]:\n",
    "        y = AND(xs[0], xs[1])\n",
    "        print(str(xs) + \" -> \" + str(y))"
   ]
  },
  {
   "cell_type": "markdown",
   "metadata": {},
   "source": [
    "### 2. 与非门 (NAND gate) 运算\n",
    "\n",
    "NAND 是 Not AND 的意思，与非门就是颠倒了与门的输出。仅当两个输入同时为 `1` 时输出 `0`，其他时候则输出 `1`。与非门 (NAND gate) 运算真值表如下：\n",
    "\n",
    "![](./img/nand_02.png)\n",
    "\n",
    "令 **w1=-0.5, w2=-0.5, b=0.7** 实现与非运算："
   ]
  },
  {
   "cell_type": "code",
   "execution_count": 2,
   "metadata": {},
   "outputs": [
    {
     "name": "stdout",
     "output_type": "stream",
     "text": [
      "(0, 0) -> 1\n",
      "(1, 0) -> 1\n",
      "(0, 1) -> 1\n",
      "(1, 1) -> 0\n"
     ]
    }
   ],
   "source": [
    "# 导入numpy科学运算库\n",
    "import numpy as np             \n",
    "\n",
    "# 定义与非门(NAND gate)运算函数\n",
    "def NAND(x1, x2):\n",
    "    # 输入\n",
    "    x = np.array([x1, x2])       \n",
    "    # 权值\n",
    "    w = np.array([-0.5, -0.5])   \n",
    "     # 偏置\n",
    "    b = 0.7                     \n",
    "    \n",
    "    # 定义感知机运算\n",
    "    tmp = np.sum(w*x) + b       \n",
    "    if tmp <= 0:                \n",
    "        # 当运算结果小于等于0，返回0\n",
    "        return 0\n",
    "    else:                       \n",
    "        # 否则返回1\n",
    "        return 1\n",
    "\n",
    "if __name__ == '__main__':\n",
    "    for xs in [(0, 0), (1, 0), (0, 1), (1, 1)]:\n",
    "        y = NAND(xs[0], xs[1])\n",
    "        print(str(xs) + \" -> \" + str(y))"
   ]
  },
  {
   "cell_type": "markdown",
   "metadata": {},
   "source": [
    "### 3. 或门 (OR gate) 运算\n",
    "\n",
    "或门 (OR gate) 是只要有一个输入是 `1`，输出就为 `1` 的逻辑运算， 或门 (OR gate) 运算真值表如下：\n",
    "\n",
    "![](./img/OR_02.png)\n",
    "\n",
    "令 **w1=0.5, w2=0.5, b=-0.2** 实现或运算："
   ]
  },
  {
   "cell_type": "code",
   "execution_count": 3,
   "metadata": {},
   "outputs": [
    {
     "name": "stdout",
     "output_type": "stream",
     "text": [
      "(0, 0) -> 0\n",
      "(1, 0) -> 1\n",
      "(0, 1) -> 1\n",
      "(1, 1) -> 1\n"
     ]
    }
   ],
   "source": [
    "# 导入numpy科学运算库\n",
    "import numpy as np             \n",
    "\n",
    "# 定义或门(OR gate)运算函数\n",
    "def OR(x1, x2):\n",
    "    # 输入\n",
    "    x = np.array([x1, x2])      \n",
    "    # 权值\n",
    "    w = np.array([0.5, 0.5])    \n",
    "    # 偏置\n",
    "    b = -0.2                    \n",
    "    \n",
    "    # 定义感知机运算\n",
    "    tmp = np.sum(w*x) + b      \n",
    "    \n",
    "    if tmp <= 0:               \n",
    "        # 当运算结果小于等于0，返回0\n",
    "        return 0\n",
    "    else:                 \n",
    "        # 否则返回1\n",
    "        return 1\n",
    "\n",
    "if __name__ == '__main__':\n",
    "    for xs in [(0, 0), (1, 0), (0, 1), (1, 1)]:\n",
    "        y = OR(xs[0], xs[1])\n",
    "        print(str(xs) + \" -> \" + str(y))"
   ]
  },
  {
   "cell_type": "markdown",
   "metadata": {},
   "source": [
    "### 4. 异或门（XOR gate）运算\n",
    "\n",
    "仅当两个输入中的一方为 `1` 时，才会输出 `1`（“异或”是拒绝其他的意思）。 异或门（XOR gate）真值表如下：\n",
    "\n",
    "![](./img/XOR_02.png)\n",
    "\n",
    "感知机的局限性就在于它只能表示由一条直线分割的空间（线性空间），而异或门（XOR gate）需要使用曲线进行划分（非线性空间），如下图：\n",
    "\n",
    "![](./img/3_02.png)\n",
    "\n",
    "我们可以通过将与门 (AND gate) 、 与非门 (NAND gate) 、或门 (OR gate) 以下列图例表示：\n",
    "\n",
    "![](./img/gates_02.png)\n",
    "\n",
    "的叠加运算，就可以实现异或门（XOR gate）：\n",
    "\n",
    "![](./img/4_02.png)\n",
    "\n",
    "根据上图的叠加运算，异或门（XOR gate）真值表可以更新如下：\n",
    "\n",
    "![](./img/6_02.png)"
   ]
  },
  {
   "cell_type": "code",
   "execution_count": 4,
   "metadata": {},
   "outputs": [
    {
     "name": "stdout",
     "output_type": "stream",
     "text": [
      "(0, 0) -> 0\n",
      "(1, 0) -> 1\n",
      "(0, 1) -> 1\n",
      "(1, 1) -> 0\n"
     ]
    }
   ],
   "source": [
    "# 定义异或门(XOR gate)运算函数\n",
    "def XOR(x1, x2):\n",
    "    # 引用之前定义的与非门(NAND gate)运算函数\n",
    "    s1 = NAND(x1, x2) \n",
    "    # 引用之前定义的或门(OR gate)运算函数\n",
    "    s2 = OR(x1, x2)   \n",
    "    # 引用之前定义的与门(AND gate)运算函数\n",
    "    y = AND(s1, s2)   \n",
    "    return y\n",
    "\n",
    "if __name__ == '__main__':\n",
    "    for xs in [(0, 0), (1, 0), (0, 1), (1, 1)]:\n",
    "        y = XOR(xs[0], xs[1])\n",
    "        print(str(xs) + \" -> \" + str(y))"
   ]
  },
  {
   "cell_type": "markdown",
   "metadata": {},
   "source": [
    "异或门（XOR gate）是一种多层结构的神经网络。这里，将最左边的一列称为第 0 层，中间的一列称为第 1 层，最右边的一列称为第 2 层。因此，与门（AND gate）、或门（OR gate）、与非门 (NAND gate) 都是单层感知机，而异或门 (AND gate) 是 2 层感知机。叠加了多层的感知机，也称为多层感知机（**multi-layered perceptron**）。\n",
    "\n",
    "![](./img/mlp_02.png)"
   ]
  },
  {
   "cell_type": "markdown",
   "metadata": {},
   "source": [
    "### 5. 阶跃函数 (Step)\n",
    "\n",
    "最后，我们绘制阶跃函数的图形。"
   ]
  },
  {
   "cell_type": "code",
   "execution_count": 5,
   "metadata": {},
   "outputs": [
    {
     "data": {
      "image/png": "[encoded data removed]",
      "text/plain": [
       "<Figure size 432x288 with 1 Axes>"
      ]
     },
     "metadata": {
      "needs_background": "light"
     },
     "output_type": "display_data"
    }
   ],
   "source": [
    "# 导入numpy科学运算库\n",
    "import numpy as np              \n",
    "# 导入matplotlib绘图库\n",
    "import matplotlib.pylab as plt  \n",
    "\n",
    "# 魔法指令，让matplotlib图形直接在jupyter notebook中显示\n",
    "%matplotlib inline\n",
    "\n",
    "# 以x数组（ [-5.0, -4.9, ……, 4.9] ）为参数 —— 在下面定义\n",
    "# 对数组的各个元素执行阶跃函数运算，并以数组形式返回运算结果\n",
    "def step_function(x):\n",
    "    # 通过dtpye将返回结果的数据类型从布尔型转换为 int型，\n",
    "    # 即：Trur/False转换为1/0，形成新的数组\n",
    "    return np.array(x > 0, dtype=np.int) \n",
    "\n",
    "# 在−5.0到5.0的范围内，以0.1为单位，生成NumPy数组（ [-5.0, -4.9, ……, 4.9] ）\n",
    "x = np.arange(-5.0, 5.0, 0.1)     \n",
    "y = step_function(x)\n",
    "\n",
    "plt.plot(x, y)\n",
    "# 指定y轴的范围\n",
    "# 由于y为step_function(x)函数的返回数组，只有1/0\n",
    "# 因此只需要限定在-0.1～1.1范围内即可\n",
    "plt.ylim(-0.1, 1.1)               \n",
    "                                  \n",
    "                                  \n",
    "# 显示图形\n",
    "plt.xlabel(\"Step Inputs\")\n",
    "plt.ylabel(\"Step Outputs\")\n",
    "plt.show()"
   ]
  },
  {
   "cell_type": "markdown",
   "metadata": {},
   "source": [
    "上图中，阶跃函数以 `0` 为界，输出从 `0` 切换为 `1`（或从 `1` 切换 `0`）。其值呈阶梯式变化，所以称之为 **阶跃函数**。"
   ]
  },
  {
   "cell_type": "markdown",
   "metadata": {},
   "source": [
    "### 实验小结\n",
    "\n",
    "在本实验中，你通过 **阶跃函数** 作为 **激活函数** ，并通过设置不同的权重、偏置参数的值，实现了简单的感知机逻辑运算：**与门、与非门、或门**。另外，你还会通过多个感知机的叠加，通过多层感知机解决单个感知机无法区分的非线性分类问题：**异或门（XOR gate）**。通过本实验，你能了解到：\n",
    "\n",
    "- 感知机是具有输入和输出的算法。给定一个输入后，将输出一个既定的值。\n",
    "- 感知机将权重和偏置设定为参数。\n",
    "- 使用感知机可以表示与门和或门等逻辑电路。\n",
    "- 异或门无法通过单层感知机来表示。\n",
    "- 使用2层感知机可以表示异或门。\n",
    "- 单层感知机只能表示线性空间，而多层感知机可以表示非线性空间"
   ]
  }
 ],
 "metadata": {
  "kernelspec": {
   "display_name": "Python 3",
   "language": "python",
   "name": "python3"
  },
  "language_info": {
   "codemirror_mode": {
    "name": "ipython",
    "version": 3
   },
   "file_extension": ".py",
   "mimetype": "text/x-python",
   "name": "python",
   "nbconvert_exporter": "python",
   "pygments_lexer": "ipython3",
   "version": "3.6.9"
  },
  "toc": {
   "base_numbering": 1,
   "nav_menu": {},
   "number_sections": true,
   "sideBar": true,
   "skip_h1_title": false,
   "title_cell": "Table of Contents",
   "title_sidebar": "Contents",
   "toc_cell": false,
   "toc_position": {},
   "toc_section_display": true,
   "toc_window_display": false
  }
 },
 "nbformat": 4,
 "nbformat_minor": 4
}
