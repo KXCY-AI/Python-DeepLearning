{
 "cells": [
  {
   "cell_type": "markdown",
   "metadata": {},
   "source": [
    "## 实验：实现二层神经网络误差反向传播法"
   ]
  },
  {
   "cell_type": "markdown",
   "metadata": {},
   "source": [
    "### 实验概要\n",
    "\n",
    "#### 神经网络学习的基本步骤\n",
    "\n",
    "利用随机梯度下降法，求梯度并更新权重和偏置参数，整个过程是个循环过程。\n",
    "\n",
    "1. 从训练数据中随机选择一部分数据\n",
    "2. 构建网络，利用前向传播，求出输出值。然后利用输出值与目标值得到损失函数，利用损失函数，利用反向传播方法，求各参数的梯度。\n",
    "3. 将权重参数沿梯度方向进行微小更新\n",
    "4. 重复以上 1、2、3 步骤"
   ]
  },
  {
   "cell_type": "markdown",
   "metadata": {},
   "source": [
    "#### 神经网络学习的反向传播法的实现\n",
    "\n",
    "为定义和保存以上神经网络架构，需要先定义几个实例变量：\n",
    "- 保存权重参数的字典型变量 params。\n",
    "- 保存各层的信息的顺序字典 layers，这里的顺序是插入数据的先后顺序。\n",
    "- 神经网络的最后一层 lastlayer\n",
    "\n",
    "除了以上三个实例变量，还需要定义一些方法\n",
    "- 构造函数，以初始化变量和权重等\n",
    "- 预测方法，根据神经网络各层的前向传播得到最后的输出值\n",
    "- 损失函数，根据输出值与目标值，得到交叉熵作为衡量两个分布的距离。\n",
    "- 评估指标，这里使用精度来衡量模型性能\n",
    "- 最后就是计算梯度，这里使用反向传播方法的得到，具体是利用导数的链式法则，从后往前，获取各层的梯度作为前层梯度往前传递（往输入端）\n",
    "\n",
    "当然，这里需要先定义好各层类，各类中各层的权重参数、包括前向传播结果，反向传播的梯度等。"
   ]
  },
  {
   "cell_type": "markdown",
   "metadata": {},
   "source": [
    "### 实验目标\n",
    "\n",
    "在本实验中，我们将实现二层神经网络误差反向传播法。\n",
    "\n",
    "#### 二层神经网络 vs. 三层神经网络\n",
    "\n",
    "对于初学者，可能会对单层神经网络、二层神经网络、三层神经网络这些说法有点模糊：\n",
    "\n",
    "![](./img/1_12.png)\n",
    "\n",
    "- **左边：** 是一个 2 层神经网络，隐层由 4 个神经元（也可称为单元（unit））组成，输出层由 2 个神经元组成，输入层是 3 个神经元。\n",
    "- **右边：** 是一个 3 层神经网络，两个含 4 个神经元的隐层。注意：层与层之间的神经元是全连接的，但是层内的神经元不连接。\n",
    "\n",
    "#### 命名规则\n",
    "\n",
    "当我们说 N 层神经网络的时候，我们没有把输入层算入。因此，单层的神经网络就是没有隐层的（输入直接映射到输出）。因此，有的研究人员会认为 **逻辑回归** 或者 **SVM** 只是单层神经网络的一个特例。研究者们也会使用 **人工神经网络**（Artificial Neural Networks 缩写: **ANN**）或者 **多层感知器**（Multi-Layer Perceptrons 缩写: **MLP**）来指代神经网络。同样，很多研究人员并不喜欢神经网络算法和人类大脑之间的类比，他们更倾向于用单元（**unit**）而不是神经元（**neuron**）作为术语。"
   ]
  },
  {
   "cell_type": "markdown",
   "metadata": {},
   "source": [
    "### 1. 定义激活函数"
   ]
  },
  {
   "cell_type": "code",
   "execution_count": 1,
   "metadata": {},
   "outputs": [],
   "source": [
    "def softmax(x):\n",
    "    if x.ndim == 2:\n",
    "        x = x.T\n",
    "        x = x - np.max(x, axis=0)\n",
    "        y = np.exp(x) / np.sum(np.exp(x), axis=0)\n",
    "        return y.T \n",
    " \n",
    "    #防止出现溢出情况\n",
    "    x = x - np.max(x) \n",
    "    return np.exp(x) / np.sum(np.exp(x))\n",
    " \n",
    "class Sigmoid:\n",
    "    def __init__(self):\n",
    "        self.out=None\n",
    "        \n",
    "    def forward(self,x):\n",
    "        self.out=1 / (1 + np.exp(-x))\n",
    "        return self.out\n",
    "    \n",
    "    def backward(self,dout):\n",
    "        dx=dout*(1.0 -self.out) * self.out\n",
    "        return dx\n",
    "    \n",
    "class Relu:\n",
    "    def __init__(self):\n",
    "        self.mask = None\n",
    " \n",
    "    def forward(self, x):\n",
    "        self.mask = (x <= 0)\n",
    "        out = x.copy()\n",
    "        out[self.mask] = 0\n",
    " \n",
    "        return out\n",
    " \n",
    "    def backward(self, dout):\n",
    "        dout[self.mask] = 0\n",
    "        dx = dout\n",
    " \n",
    "        return dx"
   ]
  },
  {
   "cell_type": "markdown",
   "metadata": {},
   "source": [
    "### 2. 定义 Affine 层"
   ]
  },
  {
   "cell_type": "code",
   "execution_count": 2,
   "metadata": {},
   "outputs": [],
   "source": [
    "class Affine:\n",
    "    def __init__(self, W, b):\n",
    "        self.W =W\n",
    "        self.b = b\n",
    "        \n",
    "        self.x = None\n",
    "        self.original_x_shape = None\n",
    "        # 权重和偏置参数的导数\n",
    "        self.dW = None\n",
    "        self.db = None\n",
    " \n",
    "    def forward(self, x):\n",
    "        # 对应张量\n",
    "        self.original_x_shape = x.shape\n",
    "        x = x.reshape(x.shape[0], -1)\n",
    "        self.x = x\n",
    " \n",
    "        out = np.dot(self.x, self.W) + self.b\n",
    " \n",
    "        return out\n",
    " \n",
    "    def backward(self, dout):\n",
    "        dx = np.dot(dout, self.W.T)\n",
    "        self.dW = np.dot(self.x.T, dout)\n",
    "        self.db = np.sum(dout, axis=0)\n",
    "        \n",
    "        # 还原输入数据的形状（对应张量）\n",
    "        dx = dx.reshape(*self.original_x_shape)  \n",
    "        return dx"
   ]
  },
  {
   "cell_type": "markdown",
   "metadata": {},
   "source": [
    "### 3. 定义 SoftmaxWithLoss 层"
   ]
  },
  {
   "cell_type": "code",
   "execution_count": 3,
   "metadata": {},
   "outputs": [],
   "source": [
    "class SoftmaxWithLoss:\n",
    "    def __init__(self):\n",
    "        self.loss = None\n",
    "        # softmax的输出\n",
    "        self.y = None \n",
    "        # 监督数据\n",
    "        self.t = None \n",
    " \n",
    "    def forward(self, x, t):\n",
    "        self.t = t\n",
    "        self.y = softmax(x)\n",
    "        self.loss = cross_entropy_error(self.y, self.t)\n",
    "        \n",
    "        return self.loss\n",
    " \n",
    "    def backward(self, dout=1):\n",
    "        batch_size = self.t.shape[0]\n",
    "        # 监督数据是one-hot-vector的情况\n",
    "        if self.t.size == self.y.size: \n",
    "            dx = (self.y - self.t) / batch_size\n",
    "        else:\n",
    "            dx = self.y.copy()\n",
    "            dx[np.arange(batch_size), self.t] -= 1\n",
    "            dx = dx / batch_size\n",
    "        \n",
    "        return dx"
   ]
  },
  {
   "cell_type": "markdown",
   "metadata": {},
   "source": [
    "### 4. 定义损失函数"
   ]
  },
  {
   "cell_type": "code",
   "execution_count": 4,
   "metadata": {},
   "outputs": [],
   "source": [
    "def cross_entropy_error(y, t):\n",
    "    if y.ndim == 1:\n",
    "        t = t.reshape(1, t.size)\n",
    "        y = y.reshape(1, y.size)\n",
    "        \n",
    "    # 如果t为one-hot格式，把它转换为数字格式\n",
    "    if t.size == y.size:\n",
    "        t = t.argmax(axis=1)\n",
    "             \n",
    "    batch_size = y.shape[0]\n",
    "    return -np.sum(np.log(y[np.arange(batch_size), t] + 1e-8)) / batch_size"
   ]
  },
  {
   "cell_type": "markdown",
   "metadata": {},
   "source": [
    "### 5. 定义神经网络类\n",
    "\n",
    "实例变量如下：\n",
    "\n",
    "- **params：** 保存神经网络的参数的字典型变量。\n",
    "   - `params['W1']` 是第 1 层的权重， `params['b1']` 是第 1 层的偏置\n",
    "   - `params['W2']` 是第 2 层的权重， `params['b2']` 是第 2 层的偏置\n",
    "\n",
    "- **layers：** 保存神经网络的层的有序字典型变量。\n",
    "   - 以 `layers['Affine1']`、 `layers['ReLu1']`、 `layers['Affine2']` 的形式，\n",
    "   - 通过有序字典保存各个层\n",
    "\n",
    "- **lastLayer：** 神经网络的最后一层。本实验中为 SoftmaxWithLoss 层\n",
    "\n",
    "`TwoLayerNet` 类使用了层。通过使用层，获得识别结果的处理（`predict()`）和计算梯度的处理（`gradient()`）只需通过层之间的传递就能完成。\n",
    "\n",
    "\n",
    "通过将神经网络的组成元素以层的方式实现，可以轻松地构建神经网络。这个用层进行模块化的实现具有很大优点。因为想另外构建一个神经网络（比如 5 层、 10 层、 20 层……的大的神经网络）时，只需像组装积木那样添加必要的层就可以了。之后，通过各个层内部实现的正向传播和反向传播，就可以正确计算进行识别处理或学习所需的梯度。下面是代码实现。"
   ]
  },
  {
   "cell_type": "code",
   "execution_count": 5,
   "metadata": {},
   "outputs": [],
   "source": [
    "import numpy as np\n",
    "from collections import OrderedDict\n",
    " \n",
    "class TwoLayerNet:\n",
    " \n",
    "    # 进行初始化。参数从头开始依次是输入层的神经元数、隐藏层的神经元数、\n",
    "    # 输出层的神经元数、初始化权重时的高斯分布的规模\n",
    "    def __init__(self, input_size, hidden_size,output_size, weight_init_std = 0.01):\n",
    "        \n",
    "        # 初始化权重\n",
    "        self.params = {}\n",
    "        self.params['W1'] = weight_init_std * np.random.randn(input_size, hidden_size)\n",
    "        self.params['b1'] = np.zeros(hidden_size)\n",
    "        self.params['W2'] = weight_init_std * np.random.randn(hidden_size, output_size) \n",
    "        self.params['b2'] = np.zeros(output_size)\n",
    " \n",
    "        # 生成层\n",
    "        self.layers = OrderedDict()\n",
    "        self.layers['Affine1'] = Affine(self.params['W1'], self.params['b1'])\n",
    "        \n",
    "        # self.layers['Sigmoid1'] = Sigmoid()\n",
    "        self.layers['Relu1'] = Relu()\n",
    "        self.layers['Affine2'] = Affine(self.params['W2'], self.params['b2'])\n",
    " \n",
    "        self.lastLayer = SoftmaxWithLoss()\n",
    "    \n",
    "    # 进行识别（推理）。参数x是图像数据\n",
    "    def predict(self, x):\n",
    "        for layer in self.layers.values():\n",
    "            x = layer.forward(x)\n",
    "        \n",
    "        return x\n",
    "        \n",
    "    # 计算损失函数的值。参数x是图像数据、t是正确解标签\n",
    "    # x:输入数据, t:监督数据\n",
    "    def loss(self, x, t):\n",
    "        y = self.predict(x)\n",
    "        return self.lastLayer.forward(y, t)\n",
    "    \n",
    "    # 计算识别精度\n",
    "    def accuracy(self, x, t):\n",
    "        y = self.predict(x)\n",
    "        y = np.argmax(y, axis=1)\n",
    "        \n",
    "        # print(\"预测值\",y[0],y.shape)        \n",
    "        if t.ndim != 1: \n",
    "            t = np.argmax(t, axis=1)\n",
    "        accuracy = np.sum(y == t) / float(x.shape[0])\n",
    "        return accuracy\n",
    "\n",
    "    # 通过数值微分计算关于权重参数的梯度\n",
    "    # x:输入数据, t:监督数据\n",
    "    def numerical_gradient(self, x, t):\n",
    "        loss_W = lambda W: self.loss(x, t)\n",
    "        \n",
    "        grads = {}\n",
    "        grads['W1'] = numerical_gradient(loss_W, self.params['W1'])\n",
    "        grads['b1'] = numerical_gradient(loss_W, self.params['b1'])\n",
    "        grads['W2'] = numerical_gradient(loss_W, self.params['W2'])\n",
    "        grads['b2'] = numerical_gradient(loss_W, self.params['b2'])\n",
    "        \n",
    "        return grads\n",
    "    \n",
    "    # 通过误差反向传播法计算关于权重参数的梯度   \n",
    "    def gradient(self, x, t):\n",
    "        # 前向\n",
    "        self.loss(x, t)\n",
    " \n",
    "        # 后向\n",
    "        dout = 1\n",
    "        dout = self.lastLayer.backward(dout)\n",
    "        \n",
    "        layers = list(self.layers.values())\n",
    "        layers.reverse()\n",
    "        for layer in layers:\n",
    "            dout = layer.backward(dout)\n",
    " \n",
    "        # 用一个字典记录各参数（权重和偏置）的梯度\n",
    "        grads = {}\n",
    "        grads['W1'], grads['b1'] = self.layers['Affine1'].dW, self.layers['Affine1'].db\n",
    "        grads['W2'], grads['b2'] = self.layers['Affine2'].dW, self.layers['Affine2'].db\n",
    " \n",
    "        return grads"
   ]
  },
  {
   "cell_type": "markdown",
   "metadata": {},
   "source": [
    "其中，代码中的 ——\n",
    "\n",
    "```python\n",
    "# 生成层\n",
    "self.layers = OrderedDict()\n",
    "self.layers['Affine1'] = Affine(self.params['W1'], self.params['b1'])\n",
    "```\n",
    "`OrderedDict` 是有序字典，**有序** 是指它可以记住向字典里添加元素的顺序。因此，神经网络的正向传播只需按照添加元素的顺序调用各层的 `forward()`方法就可以完成处理，而反向传播只需要按照相反的顺序调用各层即可。因为 Afne 层和 ReLU 层的内部会正确处理正向传播和反向传播，所以这里要做的事情仅仅是以正确的顺序连接各层，再按顺序（或者逆序）调用各层。"
   ]
  },
  {
   "cell_type": "markdown",
   "metadata": {},
   "source": [
    "### 6. 使用误差反向传播法训练模型"
   ]
  },
  {
   "cell_type": "markdown",
   "metadata": {},
   "source": [
    "#### 6.1 导入库"
   ]
  },
  {
   "cell_type": "code",
   "execution_count": 6,
   "metadata": {},
   "outputs": [],
   "source": [
    "import numpy as np\n",
    "import matplotlib.pyplot as plt\n",
    "# 导入pickle执行序列化\n",
    "import pickle  "
   ]
  },
  {
   "cell_type": "markdown",
   "metadata": {},
   "source": [
    "#### 6.2 读入数据\n",
    "\n",
    "使用 data 中内置的 mnist"
   ]
  },
  {
   "cell_type": "code",
   "execution_count": 7,
   "metadata": {},
   "outputs": [],
   "source": [
    "import os\n",
    "base_path = os.environ.get(\"BATH_PATH\",'./data/')\n",
    "data_path = os.path.join(base_path + \"lab12/\")\n",
    "result_path = \"result/\"\n",
    "os.makedirs(result_path, exist_ok=True)\n",
    "file_path = data_path + \"mnist.pkl\"\n",
    "\n",
    "def load_mnist(normalize=True, flatten=True, one_hot_label=False):\n",
    "    \"\"\"读入MNIST数据集\n",
    "    \n",
    "    Parameters\n",
    "    ----------\n",
    "    normalize : 将图像的像素值正规化为0.0~1.0\n",
    "    one_hot_label : \n",
    "        one_hot_label为True的情况下，标签作为one-hot数组返回\n",
    "        one-hot数组是指[0,0,1,0,0,0,0,0,0,0]这样的数组\n",
    "    flatten : 是否将图像展开为一维数组\n",
    "    \n",
    "    Returns\n",
    "    -------\n",
    "    (训练图像, 训练标签), (测试图像, 测试标签)\n",
    "    \"\"\"\n",
    "    with open(file_path, 'rb') as f:\n",
    "        \n",
    "        # 通过利用对象 f，使用 pickle 加载存储在本地的数据\n",
    "        dataset = pickle.load(f)        \n",
    "    \n",
    "    # normalize=True，执行标准化\n",
    "    if normalize:\n",
    "        for key in ('train_img', 'test_img'):\n",
    "            dataset[key] = dataset[key].astype(np.float32)\n",
    "            \n",
    "            # 由于图像的像素值是0-255，直接除以255，将像素值标准化为[0-1]区间内\n",
    "            dataset[key] /= 255.0      \n",
    "    \n",
    "    # one_hot_label=False，不执行one-hot表示，此操作忽略\n",
    "    if one_hot_label:\n",
    "        \n",
    "        # 引用 change_one_hot_label() 函数执行one-hot表示\n",
    "        dataset['train_label'] = _change_one_hot_label(dataset['train_label']) \n",
    "        \n",
    "        # 引用 change_one_hot_label() 函数执行one-hot表示\n",
    "        dataset['test_label'] = _change_one_hot_label(dataset['test_label'])   \n",
    "    \n",
    "    # flatten=True，此操作忽略\n",
    "    if not flatten:\n",
    "         for key in ('train_img', 'test_img'):\n",
    "            dataset[key] = dataset[key].reshape(-1, 1, 28, 28)\n",
    "\n",
    "    return (dataset['train_img'], dataset['train_label']), (dataset['test_img'], \n",
    "                                                            dataset['test_label']) \n",
    "\n",
    "(x_train, t_train), (x_test, t_test) = load_mnist()"
   ]
  },
  {
   "cell_type": "markdown",
   "metadata": {},
   "source": [
    "#### 6.3 参数设置"
   ]
  },
  {
   "cell_type": "code",
   "execution_count": 8,
   "metadata": {},
   "outputs": [],
   "source": [
    "# 适当设定循环的次数，可以增加迭代次数提升准确率，\n",
    "# 同时可以看到更平滑上升的学习曲线，然而训练时间同时也会被拉长\n",
    "iters_num = 2000  \n",
    "train_size = x_train.shape[0]\n",
    "batch_size = 100\n",
    "learning_rate = 0.1"
   ]
  },
  {
   "cell_type": "markdown",
   "metadata": {},
   "source": [
    "#### 6.4 模型训练\n",
    "\n",
    "> **训练预计需时 30 分钟，请耐心等待。**"
   ]
  },
  {
   "cell_type": "code",
   "execution_count": 9,
   "metadata": {},
   "outputs": [
    {
     "name": "stdout",
     "output_type": "stream",
     "text": [
      "学习速率：0.09000000000000001\n",
      "训练集准确率, 测试集准确率 | 0.14038333333333333, 0.1334\n",
      "学习速率：0.08100000000000002\n",
      "训练集准确率, 测试集准确率 | 0.9017833333333334, 0.905\n",
      "学习速率：0.07290000000000002\n",
      "训练集准确率, 测试集准确率 | 0.9155, 0.9215\n",
      "学习速率：0.06561000000000002\n",
      "训练集准确率, 测试集准确率 | 0.9283666666666667, 0.9283\n",
      "训练总耗时： 10.856628656387329 秒\n"
     ]
    }
   ],
   "source": [
    "# 记录模型训练时间\n",
    "import time \n",
    "# 记录训练开始时间\n",
    "start_sum = time.time() \n",
    "\n",
    "network = TwoLayerNet(input_size=784, hidden_size=50, output_size=10)\n",
    "train_loss_list = []\n",
    "train_acc_list = []\n",
    "test_acc_list = []\n",
    "iter_per_epoch = max(train_size / batch_size, 1)\n",
    "\n",
    "for i in range(iters_num):\n",
    "    batch_mask = np.random.choice(train_size, batch_size)\n",
    "    x_batch = x_train[batch_mask]\n",
    "    t_batch = t_train[batch_mask]\n",
    "\n",
    "    # 通过误差反向传播法求梯度\n",
    "    grad = network.gradient(x_batch, t_batch)\n",
    "\n",
    "    for key in ('W1', 'b1', 'W2', 'b2'):\n",
    "        network.params[key] -= learning_rate * grad[key]\n",
    "\n",
    "    loss = network.loss(x_batch, t_batch)\n",
    "    train_loss_list.append(loss)\n",
    "    if i % iter_per_epoch == 0:\n",
    "         \n",
    "        # 更新\n",
    "        if i%100==0:\n",
    "            learning_rate*=0.9\n",
    "\n",
    "       # 更新参数\n",
    "        print(\"学习速率：\" + str(learning_rate))\n",
    "        train_acc = network.accuracy(x_train, t_train)\n",
    "        test_acc = network.accuracy(x_test, t_test)\n",
    "        train_acc_list.append(train_acc)\n",
    "        test_acc_list.append(test_acc)\n",
    "        print(\"训练集准确率, 测试集准确率 | \" + \n",
    "              str(train_acc) + \", \" + str(test_acc))\n",
    "        \n",
    "# 记录训练结束时间\n",
    "end_sum = time.time() \n",
    "print('训练总耗时：',end_sum - start_sum, '秒')"
   ]
  },
  {
   "cell_type": "markdown",
   "metadata": {},
   "source": [
    "#### 6.5 结果可视化"
   ]
  },
  {
   "cell_type": "code",
   "execution_count": 10,
   "metadata": {},
   "outputs": [
    {
     "data": {
      "image/png": "[encoded data removed]",
      "text/plain": [
       "<Figure size 432x288 with 1 Axes>"
      ]
     },
     "metadata": {
      "needs_background": "light"
     },
     "output_type": "display_data"
    }
   ],
   "source": [
    "markers = {'train': 'o', 'test': 's'}\n",
    "x = np.arange(len(train_acc_list))\n",
    "\n",
    "plt.plot(x, train_acc_list, label='train acc')\n",
    "plt.plot(x, test_acc_list, label='test acc', linestyle='--')\n",
    "plt.xlabel(\"epochs\")\n",
    "plt.ylabel(\"accuracy\")\n",
    "plt.ylim(0, 1.0)\n",
    "plt.legend(loc='lower right')\n",
    "plt.show()"
   ]
  },
  {
   "cell_type": "markdown",
   "metadata": {},
   "source": [
    "### 实验小结\n",
    "\n",
    "在本实验中，你实现了二层神经网络误差反向传播法。了解了神经网络中的误差反向传播法，并以层为单位实现了神经网络中的处理。同时，在 ReLU 层、Softmax-with-Loss 层、 Afne 层、Softmax 层中实现了 forward 和 backward 方法。通过将数据正向和反向地传播，可以高效地计算权重参数的梯度。通过使用层进行模块化，神经网络中可以自由地组装层，轻松构建出自己喜欢的网络。"
   ]
  }
 ],
 "metadata": {
  "kernelspec": {
   "display_name": "Python 3",
   "language": "python",
   "name": "python3"
  },
  "language_info": {
   "codemirror_mode": {
    "name": "ipython",
    "version": 3
   },
   "file_extension": ".py",
   "mimetype": "text/x-python",
   "name": "python",
   "nbconvert_exporter": "python",
   "pygments_lexer": "ipython3",
   "version": "3.6.9"
  },
  "toc": {
   "base_numbering": 1,
   "nav_menu": {},
   "number_sections": true,
   "sideBar": true,
   "skip_h1_title": false,
   "title_cell": "Table of Contents",
   "title_sidebar": "Contents",
   "toc_cell": false,
   "toc_position": {},
   "toc_section_display": true,
   "toc_window_display": false
  }
 },
 "nbformat": 4,
 "nbformat_minor": 2
}
