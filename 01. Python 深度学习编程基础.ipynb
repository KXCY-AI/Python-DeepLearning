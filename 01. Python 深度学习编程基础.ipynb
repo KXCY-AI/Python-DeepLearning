{
 "cells": [
  {
   "cell_type": "markdown",
   "metadata": {},
   "source": [
    "## 实验：Python 深度学习编程基础"
   ]
  },
  {
   "cell_type": "markdown",
   "metadata": {},
   "source": [
    "### 实验概要\n",
    "\n",
    "<img src=\"./img/face_01.png\" width=\"60%\">\n",
    "\n",
    "Python 是一个简单、易读、易记的编程语言，而且是开源的，可以免费地自由使用。 Python 可以用类似英语的语法编写程序，编译起来也不费力，因此我们可以很轻松地使用 Python。特别是对首次接触编程的人士来说，Python 是最合适不过的语言。事实上，很多高校和大专院校的计算机课程均采用 Python 作为入门语言。此外，使用 Python 不仅可以写出可读性高的代码，还可以写出性能高（处理速度快）的代码。在需要处理大规模数据或者要求快速响应的情况下，使用Python 可以稳妥地完成。因此， Python 不仅受到初学者的喜爱，同时也受到专业人士的喜爱。实际上，Google、微软、Facebook、BAT 等在 IT 行业最前沿的企业也经常使用 Python。\n",
    "\n",
    "再者，在科学领域，特别是在机器学习、数据科学领域， Python 也被大量使用。 Python 除了高性能之外，凭借着 NumPy、 SciPy 等优秀的数值计算、统计分析库，在数据科学领域占有不可动摇的地位。深度学习的框架中也有很多使用 Python 的场景，比如：Caﬀe、TensorFlow、Chainer、Theano 等著名的深度学习框架都提供了 Python 接口。因此，学习 Python 对使用深度学习框架大有益处。因此，本课程将采用 Python 实现全部的深度学习实验操作。"
   ]
  },
  {
   "cell_type": "markdown",
   "metadata": {},
   "source": [
    "### 实验目标\n",
    "\n",
    "本实验中，我们假定你已经掌握了 Python 的基本编程概念，并且拥有一定的利用 Python 实现数据处理、数据分析的经验。我们将向你展示 Python 在深度学习应用中的基础知识。通过对 Python 常用的 Numpy, SciPy, Matplotlib 等数据科学库，以及在深度学习中的高频应用知识点进行全面的回顾与复习，为后续深入进行深度学习操作与编程打下坚实的基础。同时，实验中链接了大量关于进一步了解 Python 技术细节的文档，请务必对其进行阅读，养成良好的查阅文档的工程习惯。"
   ]
  },
  {
   "cell_type": "markdown",
   "metadata": {},
   "source": [
    "### 1. Python\n",
    "\n",
    "Python 是一种高级的、动态类型的多范型编程语言。Python 代码经常被说成是伪代码，因为它允许您用很少的几行代码来表达非常强大的思想，同时又非常易读。举个例子，下面是一个用 Python 实现的经典快速排序 (Quick Sort) 算法:\n",
    "\n"
   ]
  },
  {
   "cell_type": "code",
   "execution_count": 1,
   "metadata": {},
   "outputs": [
    {
     "name": "stdout",
     "output_type": "stream",
     "text": [
      "[1, 1, 2, 3, 6, 8, 10]\n"
     ]
    }
   ],
   "source": [
    "# 快速排序使用分治法（Divide and conquer）策略来把一个序列（list）分为\n",
    "# 较小、较大的两个子序列，然后递归排序两个子序列。\n",
    "# 快速排序函数\n",
    "def quicksort(arr):\n",
    "    if len(arr) <= 1:     \n",
    "        # 确定待排序排序队列中至少有2个元素，否则无需排序\n",
    "        return arr\n",
    "    \n",
    "    # 挑选基准值：从数列中挑出一个元素，称为\"基准\"（pivot）\n",
    "    pivot = arr[len(arr) // 2]           \n",
    "    \n",
    "    # 分割：：所有比基准值小的元素摆放在基准前面\n",
    "    left = [x for x in arr if x < pivot]         \n",
    "    \n",
    "    # 分割：：与基准值相等的数放在中间\n",
    "    middle = [x for x in arr if x == pivot]  \n",
    "    \n",
    "    # 分割：：所有比基准值大的元素摆在基准后面\n",
    "    right = [x for x in arr if x > pivot]    \n",
    "    \n",
    "    # 递归地将小于基准值元素的子序列和大于基准值元素的子序列排序。\n",
    "    return quicksort(left) + middle + quicksort(right) \n",
    "\n",
    "# 执行排序函数并输出\n",
    "print(quicksort([3,6,8,10,1,2,1]))"
   ]
  },
  {
   "cell_type": "markdown",
   "metadata": {},
   "source": [
    "选取基准值有数种具体方法，此选取方法对排序的时间性能有决定性影响，下图为前两次循环的执行流程 ——\n",
    "\n",
    "<img src=\"./img/quicksort_01.png\">\n",
    "\n",
    "完整的程序运行流程可以 [在这里查看](http://pythontutor.com/visualize.html#code=%23%20%E5%BF%AB%E9%80%9F%E6%8E%92%E5%BA%8F%E4%BD%BF%E7%94%A8%E5%88%86%E6%B2%BB%E6%B3%95%EF%BC%88Divide%20and%20conquer%EF%BC%89%E7%AD%96%E7%95%A5%E6%9D%A5%E6%8A%8A%E4%B8%80%E4%B8%AA%E5%BA%8F%E5%88%97%EF%BC%88list%EF%BC%89%E5%88%86%E4%B8%BA%E8%BE%83%E5%B0%8F%E3%80%81%E7%AD%89%E4%BA%8E%E5%92%8C%E8%BE%83%E5%A4%A7%E7%9A%84%E4%B8%89%E4%B8%AA%E5%AD%90%E5%BA%8F%E5%88%97%EF%BC%8C%E7%84%B6%E5%90%8E%E9%80%92%E5%BD%92%E5%9C%B0%E6%8E%92%E5%BA%8F%E4%B8%A4%E4%B8%AA%E5%AD%90%E5%BA%8F%E5%88%97%E3%80%82%0A%23%20%E5%BF%AB%E9%80%9F%E6%8E%92%E5%BA%8F%E5%87%BD%E6%95%B0%0Adef%20quicksort%28arr%29%3A%0A%20%20%20%20if%20len%28arr%29%20%3C%3D%201%3A%20%20%20%20%20%23%20%E7%A1%AE%E5%AE%9A%E5%BE%85%E6%8E%92%E5%BA%8F%E6%8E%92%E5%BA%8F%E9%98%9F%E5%88%97%E4%B8%AD%E8%87%B3%E5%B0%91%E6%9C%892%E4%B8%AA%E5%85%83%E7%B4%A0%EF%BC%8C%E5%90%A6%E5%88%99%E6%97%A0%E9%9C%80%E6%8E%92%E5%BA%8F%0A%20%20%20%20%20%20%20%20return%20arr%0A%20%20%20%20%0A%20%20%20%20pivot%20%3D%20arr%5Blen%28arr%29%20//%202%5D%20%20%20%20%20%20%20%20%20%20%20%20%20%20%20%23%20%E6%8C%91%E9%80%89%E5%9F%BA%E5%87%86%E5%80%BC%EF%BC%9A%E4%BB%8E%E6%95%B0%E5%88%97%E4%B8%AD%E6%8C%91%E5%87%BA%E4%B8%80%E4%B8%AA%E5%85%83%E7%B4%A0%EF%BC%8C%E7%A7%B0%E4%B8%BA%22%E5%9F%BA%E5%87%86%22%EF%BC%88pivot%EF%BC%89%0A%20%20%20%20left%20%3D%20%5Bx%20for%20x%20in%20arr%20if%20x%20%3C%20pivot%5D%20%20%20%20%20%23%20%E5%88%86%E5%89%B2%EF%BC%9A%EF%BC%9A%E6%89%80%E6%9C%89%E6%AF%94%E5%9F%BA%E5%87%86%E5%80%BC%E5%B0%8F%E7%9A%84%E5%85%83%E7%B4%A0%E6%91%86%E6%94%BE%E5%9C%A8%E5%9F%BA%E5%87%86%E5%89%8D%E9%9D%A2%0A%20%20%20%20middle%20%3D%20%5Bx%20for%20x%20in%20arr%20if%20x%20%3D%3D%20pivot%5D%20%20%23%20%E5%88%86%E5%89%B2%EF%BC%9A%EF%BC%9A%E4%B8%8E%E5%9F%BA%E5%87%86%E5%80%BC%E7%9B%B8%E7%AD%89%E7%9A%84%E6%95%B0%E6%94%BE%E5%9C%A8%E4%B8%AD%E9%97%B4%0A%20%20%20%20right%20%3D%20%5Bx%20for%20x%20in%20arr%20if%20x%20%3E%20pivot%5D%20%20%20%20%23%20%E5%88%86%E5%89%B2%EF%BC%9A%EF%BC%9A%E6%89%80%E6%9C%89%E6%AF%94%E5%9F%BA%E5%87%86%E5%80%BC%E5%A4%A7%E7%9A%84%E5%85%83%E7%B4%A0%E6%91%86%E5%9C%A8%E5%9F%BA%E5%87%86%E5%90%8E%E9%9D%A2%0A%20%20%20%20return%20quicksort%28left%29%20%2B%20middle%20%2B%20quicksort%28right%29%20%23%20%E9%80%92%E5%BD%92%E5%9C%B0%E5%B0%86%E5%B0%8F%E4%BA%8E%E5%9F%BA%E5%87%86%E5%80%BC%E5%85%83%E7%B4%A0%E7%9A%84%E5%AD%90%E5%BA%8F%E5%88%97%E5%92%8C%E5%A4%A7%E4%BA%8E%E5%9F%BA%E5%87%86%E5%80%BC%E5%85%83%E7%B4%A0%E7%9A%84%E5%AD%90%E5%BA%8F%E5%88%97%E6%8E%92%E5%BA%8F%E3%80%82%0A%0A%23%20%E6%89%A7%E8%A1%8C%E6%8E%92%E5%BA%8F%E5%87%BD%E6%95%B0%E5%B9%B6%E8%BE%93%E5%87%BA%0Aprint%28quicksort%28%5B3,6,8,10,1,2,1%5D%29%29&cumulative=false&curInstr=0&heapPrimitives=nevernest&mode=display&origin=opt-frontend.js&py=3&rawInputLstJSON=%5B%5D&textReferences=false) 。"
   ]
  },
  {
   "cell_type": "markdown",
   "metadata": {},
   "source": [
    "#### 1.1 Python 版本\n",
    "\n",
    "目前有两种不同的 Python支持版本，2.x 和 3.x。有点令人困惑的是，Python 3.0 对该语言引入了不向后兼容的更改，因此为 2.x 编写的代码在 3.x 以下可能无法工作，反之亦然。本课程中，所有代码都将使用 Python 3.x（如当前实验环境右上角所示）—— \n",
    "\n",
    "![](./img/p3_01.png)\n",
    "\n",
    "如何查看详细的 Python 版本呢？可以在终端命令行中运行 `python --version` 命令：\n",
    "\n",
    "![](./img/p3t_01.png)\n",
    "\n",
    "而由于我们的实验操作环境为 Jupyter Notebook，可以使用下面的代码实现 Python 版本号查询："
   ]
  },
  {
   "cell_type": "code",
   "execution_count": 2,
   "metadata": {},
   "outputs": [
    {
     "name": "stdout",
     "output_type": "stream",
     "text": [
      "3.6.9\n"
     ]
    }
   ],
   "source": [
    "from platform import python_version\n",
    "\n",
    "print(python_version())"
   ]
  },
  {
   "cell_type": "markdown",
   "metadata": {},
   "source": [
    "你可以发现上面代码的输出，与终端命令行中运行 `python --version` 命令的输出是一致的（**注：具体输出版本以你当前操作的环境为准**）。"
   ]
  },
  {
   "cell_type": "markdown",
   "metadata": {},
   "source": [
    "#### 1.2 基本数据类型\n",
    "\n",
    "与大多数语言一样，Python 有许多基本类型，包括整数、浮点数、布尔值和字符串。这些数据类型的使用方式与其他编程语言相似。"
   ]
  },
  {
   "cell_type": "markdown",
   "metadata": {},
   "source": [
    "**数字：** 整数和浮点型的使用与其他语言类似"
   ]
  },
  {
   "cell_type": "code",
   "execution_count": 3,
   "metadata": {},
   "outputs": [
    {
     "name": "stdout",
     "output_type": "stream",
     "text": [
      "<class 'int'>\n"
     ]
    }
   ],
   "source": [
    "x = 3\n",
    "# 输出 \"<class 'int'>\"\n",
    "print(type(x)) "
   ]
  },
  {
   "cell_type": "code",
   "execution_count": 4,
   "metadata": {},
   "outputs": [
    {
     "name": "stdout",
     "output_type": "stream",
     "text": [
      "3\n",
      "4\n",
      "2\n",
      "6\n",
      "9\n",
      "1.5\n",
      "1\n"
     ]
    }
   ],
   "source": [
    "print(x)\n",
    "# 加法运算\n",
    "print(x + 1)  \n",
    " # 减法运算\n",
    "print(x - 1)  \n",
    "# 乘法运算\n",
    "print(x * 2)   \n",
    "# 求幂运算\n",
    "print(x ** 2)  \n",
    "# 除法运算 (浮点)\n",
    "print(x / 2)   \n",
    "# 整除运算 (取商)\n",
    "print(x // 2)  "
   ]
  },
  {
   "cell_type": "code",
   "execution_count": 5,
   "metadata": {},
   "outputs": [
    {
     "name": "stdout",
     "output_type": "stream",
     "text": [
      "3\n",
      "4\n"
     ]
    }
   ],
   "source": [
    "print(x)\n",
    "# +1  \n",
    "x += 1   \n",
    "print(x)"
   ]
  },
  {
   "cell_type": "code",
   "execution_count": 6,
   "metadata": {},
   "outputs": [
    {
     "name": "stdout",
     "output_type": "stream",
     "text": [
      "8\n"
     ]
    }
   ],
   "source": [
    "# x2  \n",
    "x *= 2  \n",
    "print(x)"
   ]
  },
  {
   "cell_type": "code",
   "execution_count": 7,
   "metadata": {},
   "outputs": [
    {
     "name": "stdout",
     "output_type": "stream",
     "text": [
      "<class 'float'>\n",
      "2.5 3.5 5.0 6.25\n"
     ]
    }
   ],
   "source": [
    "y = 2.5\n",
    "# 输出 \"<class 'float'>\"\n",
    "print(type(y))                 \n",
    "# 输出 \"2.5 3.5 5.0 6.25\"\n",
    "print(y, y + 1, y * 2, y ** 2) "
   ]
  },
  {
   "cell_type": "markdown",
   "metadata": {},
   "source": [
    "注意：不像其他语言，Python 没有自加（x++）和自减（x--）运算。\n",
    "\n",
    "Python 也有复杂的数字类型，具体细节可以[查看文档](https://docs.python.org/3.7/library/stdtypes.html#numeric-types-int-float-complex)。"
   ]
  },
  {
   "cell_type": "markdown",
   "metadata": {},
   "source": [
    "**布尔型：** Python 实现了所有布尔逻辑，但是用的是英语，而不是我们习惯的操作符（如 `&&` 和 `||` 等）。"
   ]
  },
  {
   "cell_type": "code",
   "execution_count": 8,
   "metadata": {},
   "outputs": [
    {
     "name": "stdout",
     "output_type": "stream",
     "text": [
      "<class 'bool'>\n"
     ]
    }
   ],
   "source": [
    "t = True\n",
    "f = False\n",
    "# 输出 \"<class 'bool'>\"\n",
    "print(type(t)) "
   ]
  },
  {
   "cell_type": "code",
   "execution_count": 9,
   "metadata": {},
   "outputs": [
    {
     "name": "stdout",
     "output_type": "stream",
     "text": [
      "False\n",
      "True\n",
      "False\n",
      "True\n"
     ]
    }
   ],
   "source": [
    "# 逻辑“与”(AND)，  输出 \"False\"\n",
    "print(t and f) \n",
    "# 逻辑“或”(OR);    输出 \"True\"\n",
    "print(t or f)  \n",
    "# 逻辑“非”(NOT);   输出 \"False\"\n",
    "print(not t)   \n",
    "# 逻辑 \"异或\" (XOR); 输出 \"True\"\n",
    "print(t != f)  "
   ]
  },
  {
   "cell_type": "markdown",
   "metadata": {},
   "source": [
    "**字符串：** Python 对字符串的支持非常棒！"
   ]
  },
  {
   "cell_type": "code",
   "execution_count": 10,
   "metadata": {},
   "outputs": [
    {
     "name": "stdout",
     "output_type": "stream",
     "text": [
      "hello\n",
      "5\n"
     ]
    }
   ],
   "source": [
    "# 字符串文字可以使用单引号\n",
    "hello = 'hello'    \n",
    "# 或双引号也可以\n",
    "world = \"world\"    \n",
    "# 输出 \"hello\"\n",
    "print(hello)       \n",
    "# 字符串长度；输出 \"5\"\n",
    "print(len(hello))  "
   ]
  },
  {
   "cell_type": "code",
   "execution_count": 11,
   "metadata": {},
   "outputs": [
    {
     "name": "stdout",
     "output_type": "stream",
     "text": [
      "hello world\n"
     ]
    }
   ],
   "source": [
    "# 字符串串联\n",
    "hw = hello + ' ' + world  \n",
    "# 输出 \"hello world\"\n",
    "print(hw)                 "
   ]
  },
  {
   "cell_type": "code",
   "execution_count": 12,
   "metadata": {},
   "outputs": [
    {
     "name": "stdout",
     "output_type": "stream",
     "text": [
      "hello world 12\n"
     ]
    }
   ],
   "source": [
    "# sprintf 样式字符串格式\n",
    "hw12 = '%s %s %d' % (hello, world, 12)  \n",
    "# 输出 \"hello world 12\"\n",
    "print(hw12)                             "
   ]
  },
  {
   "cell_type": "markdown",
   "metadata": {},
   "source": [
    "字符串对象有一系列有用的方法，比如："
   ]
  },
  {
   "cell_type": "code",
   "execution_count": 13,
   "metadata": {},
   "outputs": [
    {
     "name": "stdout",
     "output_type": "stream",
     "text": [
      "Hello\n",
      "HELLO\n",
      "  hello\n",
      " hello \n"
     ]
    }
   ],
   "source": [
    "s = \"hello\"\n",
    "# 首字母大写字符串; 输出 \"Hello\"\n",
    "print(s.capitalize())  \n",
    "# 将字符串转换为大写; 输出 \"HELLO\"\n",
    "print(s.upper())       \n",
    "# 右对齐字符串，并用空格填充；输出 \" hello\"\n",
    "print(s.rjust(7))      \n",
    "# 将字符串居中，并用空格填充；输出 \" hello \"\n",
    "print(s.center(7))     "
   ]
  },
  {
   "cell_type": "code",
   "execution_count": 14,
   "metadata": {},
   "outputs": [
    {
     "name": "stdout",
     "output_type": "stream",
     "text": [
      "he(ell)(ell)o\n"
     ]
    }
   ],
   "source": [
    "# 将一个子字符串（l）的所有实例替换为另一个（ell）；\n",
    "# 输出 \"he(ell)(ell)o\"\n",
    "print(s.replace('l', '(ell)'))  "
   ]
  },
  {
   "cell_type": "code",
   "execution_count": 15,
   "metadata": {},
   "outputs": [
    {
     "name": "stdout",
     "output_type": "stream",
     "text": [
      "world\n"
     ]
    }
   ],
   "source": [
    "# 删除前导和尾随空格；输出 \"world\"\n",
    "print('  world '.strip())  "
   ]
  },
  {
   "cell_type": "markdown",
   "metadata": {},
   "source": [
    "你可以在[文档中](https://docs.python.org/3.7/library/stdtypes.html#string-methods)，查看所有字符串方法。"
   ]
  },
  {
   "cell_type": "markdown",
   "metadata": {},
   "source": [
    "#### 1.3 容器\n",
    "\n",
    "Python 有以下几种容器（复合数据）类型：\n",
    "\n",
    "- 列表（lists）\n",
    "- 字典（dictionaries）\n",
    "- 集合（sets）\n",
    "- 元组（tuples）\n",
    "\n",
    "**注：创建列表用 `[]`，创建字典、集合用 `{}`，创建元组用 `()`**。"
   ]
  },
  {
   "cell_type": "markdown",
   "metadata": {},
   "source": [
    "##### 列表 Lists\n",
    "\n",
    "列表就是 Python 中的数组，但是列表长度可变，且能包含不同类型的元素。"
   ]
  },
  {
   "cell_type": "code",
   "execution_count": 16,
   "metadata": {},
   "outputs": [
    {
     "name": "stdout",
     "output_type": "stream",
     "text": [
      "[3, 1, 2] 2\n",
      "2\n"
     ]
    }
   ],
   "source": [
    "# 创建列表\n",
    "xs = [3, 1, 2]    \n",
    "# 输出 \"[3, 1, 2] 2\"\n",
    "print(xs, xs[2])  \n",
    "# 负索引，从列表的末尾开始计数；输出 \"2\"\n",
    "print(xs[-1])     "
   ]
  },
  {
   "cell_type": "code",
   "execution_count": 17,
   "metadata": {},
   "outputs": [
    {
     "name": "stdout",
     "output_type": "stream",
     "text": [
      "[3, 1, 'foo']\n"
     ]
    }
   ],
   "source": [
    "# 列表可以包含不同类型的元素\n",
    "xs[2] = 'foo'     \n",
    "# 输出 \"[3, 1, 'foo']\"\n",
    "print(xs)         "
   ]
  },
  {
   "cell_type": "code",
   "execution_count": 18,
   "metadata": {},
   "outputs": [
    {
     "name": "stdout",
     "output_type": "stream",
     "text": [
      "[3, 1, 'foo', 'bar']\n"
     ]
    }
   ],
   "source": [
    "# 在列表末尾添加一个新元素\n",
    "xs.append('bar')  \n",
    "# 输出 \"[3, 1, 'foo', 'bar']\"\n",
    "print(xs)         "
   ]
  },
  {
   "cell_type": "code",
   "execution_count": 19,
   "metadata": {},
   "outputs": [
    {
     "name": "stdout",
     "output_type": "stream",
     "text": [
      "bar [3, 1, 'foo']\n"
     ]
    }
   ],
   "source": [
    "# 删除并返回列表的最后一个元素\n",
    "x = xs.pop()      \n",
    "# 输出 \"bar [3, 1, 'foo']\"\n",
    "print(x, xs)      "
   ]
  },
  {
   "cell_type": "code",
   "execution_count": 20,
   "metadata": {},
   "outputs": [
    {
     "name": "stdout",
     "output_type": "stream",
     "text": [
      "[3, 'foo']\n"
     ]
    }
   ],
   "source": [
    "# 从特定位置删除元素\n",
    "xs.pop(1) \n",
    "print(xs)"
   ]
  },
  {
   "cell_type": "markdown",
   "metadata": {},
   "source": [
    "你可以在[文档中](https://docs.python.org/3.7/tutorial/datastructures.html#more-on-lists)，查阅列表的细节。"
   ]
  },
  {
   "cell_type": "markdown",
   "metadata": {},
   "source": [
    "**切片** Slicing：除了一次访问一个列表元素外，Python 还提供了简洁的语法来访问子列表，这就是切片。Python 的切片根据索引号 (Index) 进行切片 ——\n",
    "\n",
    "<img src=\"./img/positive-indexes_01.png\" width=60%>"
   ]
  },
  {
   "cell_type": "code",
   "execution_count": 21,
   "metadata": {},
   "outputs": [
    {
     "name": "stdout",
     "output_type": "stream",
     "text": [
      "[0, 1, 2, 3, 4]\n"
     ]
    }
   ],
   "source": [
    "# range 是一个内置函数，可创建一个整数列表\n",
    "nums = list(range(5))     \n",
    "# 输出 \"[0, 1, 2, 3, 4]\"\n",
    "print(nums)               "
   ]
  },
  {
   "cell_type": "markdown",
   "metadata": {},
   "source": [
    "Python 的切片索引，通常不包括结束索引位所代表的值 ——\n",
    "\n",
    "<img src=\"./img/first-slice_01.png\" width=60%>"
   ]
  },
  {
   "cell_type": "code",
   "execution_count": 22,
   "metadata": {},
   "outputs": [
    {
     "name": "stdout",
     "output_type": "stream",
     "text": [
      "[2, 3]\n",
      "[2, 3, 4]\n",
      "[0, 1]\n",
      "[0, 1, 2, 3, 4]\n"
     ]
    }
   ],
   "source": [
    "# 从索引 2 到 4（不包括）获取一个切片；输出 \"[2, 3]\"\n",
    "print(nums[2:4])          \n",
    "# 从索引 2 到末尾获取一个切片；输出 \"[2, 3, 4]\"\n",
    "print(nums[2:])           \n",
    "# 从头开始获取索引 2 的切片（不包括）；输出 \"[0, 1]\"\n",
    "print(nums[:2])           \n",
    "# 获取整个列表；输出 \"[0, 1, 2, 3, 4]\"\n",
    "print(nums[:])            "
   ]
  },
  {
   "cell_type": "markdown",
   "metadata": {},
   "source": [
    "切片索引可以为负数，索引从最后开始倒数：\n",
    "\n",
    "<img src=\"./img/negative-indexes_01.png\" width=60%>"
   ]
  },
  {
   "cell_type": "code",
   "execution_count": 23,
   "metadata": {},
   "outputs": [
    {
     "name": "stdout",
     "output_type": "stream",
     "text": [
      "[0, 1, 2, 3]\n"
     ]
    }
   ],
   "source": [
    "# 切片索引可以为负；输出 \"[0, 1, 2, 3]\"\n",
    "print(nums[:-1])          "
   ]
  },
  {
   "cell_type": "code",
   "execution_count": 24,
   "metadata": {},
   "outputs": [
    {
     "name": "stdout",
     "output_type": "stream",
     "text": [
      "[0, 1, 8, 9, 4]\n"
     ]
    }
   ],
   "source": [
    "# 将新的子列表分配给切片\n",
    "nums[2:4] = [8, 9]        \n",
    "# 输出 \"[0, 1, 8, 9, 4]\"\n",
    "print(nums)               "
   ]
  },
  {
   "cell_type": "markdown",
   "metadata": {},
   "source": [
    "在 Numpy 的数组中我们将再次看到切片。"
   ]
  },
  {
   "cell_type": "markdown",
   "metadata": {},
   "source": [
    "**循环 Loops：** 我们可以这样遍历列表中的每一个元素："
   ]
  },
  {
   "cell_type": "code",
   "execution_count": 25,
   "metadata": {},
   "outputs": [
    {
     "name": "stdout",
     "output_type": "stream",
     "text": [
      "cat\n",
      "dog\n",
      "monkey\n"
     ]
    }
   ],
   "source": [
    "animals = ['cat', 'dog', 'monkey']\n",
    "for animal in animals:\n",
    "    print(animal)\n",
    "# 输出 \"cat\", \"dog\", \"monkey\", 每个都独立一行"
   ]
  },
  {
   "cell_type": "markdown",
   "metadata": {},
   "source": [
    "如果想要在循环体内访问每个元素的索引，可以使用内置的 `enumerate` 函数："
   ]
  },
  {
   "cell_type": "code",
   "execution_count": 26,
   "metadata": {},
   "outputs": [
    {
     "name": "stdout",
     "output_type": "stream",
     "text": [
      "#1: cat\n",
      "#2: dog\n",
      "#3: monkey\n"
     ]
    }
   ],
   "source": [
    "animals = ['cat', 'dog', 'monkey']\n",
    "for idx, animal in enumerate(animals):\n",
    "    print('#%d: %s' % (idx + 1, animal))\n",
    "# 输出 \"#1: cat\", \"#2: dog\", \"#3: monkey\", 每个都独立一行"
   ]
  },
  {
   "cell_type": "markdown",
   "metadata": {},
   "source": [
    "**列表推导 List comprehension：**在编程的时候，我们常常想要将一种数据转换成另一种。下面是一个简单的例子，将列表中的每一个元素变成它的平方。"
   ]
  },
  {
   "cell_type": "code",
   "execution_count": 27,
   "metadata": {},
   "outputs": [
    {
     "name": "stdout",
     "output_type": "stream",
     "text": [
      "[0, 1, 4, 9, 16]\n"
     ]
    }
   ],
   "source": [
    "nums = [0, 1, 2, 3, 4]\n",
    "squares = []\n",
    "for x in nums:\n",
    "    squares.append(x ** 2)\n",
    "print(squares)   \n",
    "# 输出 [0, 1, 4, 9, 16]"
   ]
  },
  {
   "cell_type": "markdown",
   "metadata": {},
   "source": [
    "你可以使用 **列表推导** 让代码更简单："
   ]
  },
  {
   "cell_type": "code",
   "execution_count": 28,
   "metadata": {},
   "outputs": [
    {
     "name": "stdout",
     "output_type": "stream",
     "text": [
      "[0, 1, 4, 9, 16]\n"
     ]
    }
   ],
   "source": [
    "nums = [0, 1, 2, 3, 4]\n",
    "# 对列表的值求幂，返回新列表\n",
    "squares = [x ** 2 for x in nums]            \n",
    "# 输出 [0, 1, 4, 9, 16]\n",
    "print(squares)   "
   ]
  },
  {
   "cell_type": "markdown",
   "metadata": {},
   "source": [
    "列表推导还可以包含条件："
   ]
  },
  {
   "cell_type": "code",
   "execution_count": 29,
   "metadata": {},
   "outputs": [
    {
     "name": "stdout",
     "output_type": "stream",
     "text": [
      "[0, 4, 16]\n"
     ]
    }
   ],
   "source": [
    "nums = [0, 1, 2, 3, 4]\n",
    "\n",
    "# 对列表中能被 2 整除的值求幂，返回新列表\n",
    "even_squares = [x ** 2 for x in nums if x % 2 == 0] \n",
    "# 输出 \"[0, 4, 16]\"\n",
    "print(even_squares)  "
   ]
  },
  {
   "cell_type": "markdown",
   "metadata": {},
   "source": [
    "##### 字典 Dictionaries\n",
    "\n",
    "字典用来存储（键，值）对，这和 Java、C++ 的 Map 差不多，你可以这样使用它：\n",
    "\n",
    "![](./img/1_oNuaSOlSozUchdxiOE1ieQ_01.jpeg)"
   ]
  },
  {
   "cell_type": "code",
   "execution_count": 30,
   "metadata": {},
   "outputs": [
    {
     "name": "stdout",
     "output_type": "stream",
     "text": [
      "cute\n",
      "True\n"
     ]
    }
   ],
   "source": [
    "# 用一些数据创建一个新的字典：cat 代表 cute；dog 代表 furry\n",
    "d = {'cat': 'cute', 'dog': 'furry'}  \n",
    "# 从字典中获取条目；输出 \"cute\"\n",
    "print(d['cat'])                      \n",
    "# 检查字典是否具有给定的键; 输出 \"True\"\n",
    "print('cat' in d)                    "
   ]
  },
  {
   "cell_type": "code",
   "execution_count": 31,
   "metadata": {},
   "outputs": [
    {
     "name": "stdout",
     "output_type": "stream",
     "text": [
      "wet\n"
     ]
    }
   ],
   "source": [
    "# 在字典中设置一个条目\n",
    "d['fish'] = 'wet'     \n",
    "# 输出 \"wet\"\n",
    "print(d['fish'])      \n",
    "# KeyError: 'monkey' 不存在的键将报错\n",
    "# print(d['monkey'])  "
   ]
  },
  {
   "cell_type": "code",
   "execution_count": 32,
   "metadata": {},
   "outputs": [
    {
     "name": "stdout",
     "output_type": "stream",
     "text": [
      "N/A\n",
      "wet\n",
      "N/A\n"
     ]
    }
   ],
   "source": [
    "# 获取具有默认值的元素; 输出 \"N/A\"\n",
    "print(d.get('monkey', 'N/A'))  \n",
    "# 获取具有默认值的元素; 输出 \"wet\"\n",
    "print(d.get('fish', 'N/A'))   \n",
    "# 从字典中删除元素\n",
    "del d['fish']                 \n",
    "# \"fish\" 不再是一个键; 输出 \"N/A\"\n",
    "print(d.get('fish', 'N/A'))   "
   ]
  },
  {
   "cell_type": "markdown",
   "metadata": {},
   "source": [
    "[查阅文档](https://docs.python.org/3.7/library/stdtypes.html#dict)，了解关于字典的更多信息。"
   ]
  },
  {
   "cell_type": "markdown",
   "metadata": {},
   "source": [
    "**循环 Loops：** 在字典中，用键来遍历很容易："
   ]
  },
  {
   "cell_type": "code",
   "execution_count": 33,
   "metadata": {},
   "outputs": [
    {
     "name": "stdout",
     "output_type": "stream",
     "text": [
      "A person has 2 legs\n",
      "A cat has 4 legs\n",
      "A spider has 8 legs\n"
     ]
    }
   ],
   "source": [
    "d = {'person': 2, 'cat': 4, 'spider': 8}\n",
    "for animal in d:\n",
    "    legs = d[animal]\n",
    "    print('A %s has %d legs' % (animal, legs))\n",
    "# 输出 \"A person has 2 legs\", \"A cat has 4 legs\", \"A spider has 8 legs\""
   ]
  },
  {
   "cell_type": "markdown",
   "metadata": {},
   "source": [
    "如果你想要访问键和对应的值，那就使用 `items` 方法："
   ]
  },
  {
   "cell_type": "code",
   "execution_count": 34,
   "metadata": {},
   "outputs": [
    {
     "name": "stdout",
     "output_type": "stream",
     "text": [
      "A person has 2 legs\n",
      "A cat has 4 legs\n",
      "A spider has 8 legs\n"
     ]
    }
   ],
   "source": [
    "d = {'person': 2, 'cat': 4, 'spider': 8}\n",
    "for animal, legs in d.items():\n",
    "    print('A %s has %d legs' % (animal, legs))\n",
    "# 输出 \"A person has 2 legs\", \"A cat has 4 legs\", \"A spider has 8 legs\""
   ]
  },
  {
   "cell_type": "markdown",
   "metadata": {},
   "source": [
    "**字典推导 Dictionary comprehensions：** 和列表推导类似，但允许你更简单地创建字典："
   ]
  },
  {
   "cell_type": "code",
   "execution_count": 35,
   "metadata": {},
   "outputs": [
    {
     "name": "stdout",
     "output_type": "stream",
     "text": [
      "{0: 0, 2: 4, 4: 16}\n"
     ]
    }
   ],
   "source": [
    "nums = [0, 1, 2, 3, 4]\n",
    "even_num_to_square = {x: x ** 2 for x in nums if x % 2 == 0}\n",
    "# 输出 \"{0: 0, 2: 4, 4: 16}\"\n",
    "print(even_num_to_square)  "
   ]
  },
  {
   "cell_type": "code",
   "execution_count": 36,
   "metadata": {},
   "outputs": [
    {
     "name": "stdout",
     "output_type": "stream",
     "text": [
      "{0: 0, 2: 8, 4: 64}\n"
     ]
    }
   ],
   "source": [
    "another_dict = {x:x**3 for x in even_num_to_square}\n",
    "print(another_dict)"
   ]
  },
  {
   "cell_type": "markdown",
   "metadata": {},
   "source": [
    "##### 集合 Sets\n",
    "\n",
    "集合是不同元素的无序集合，如："
   ]
  },
  {
   "cell_type": "code",
   "execution_count": 37,
   "metadata": {},
   "outputs": [
    {
     "name": "stdout",
     "output_type": "stream",
     "text": [
      "True\n",
      "False\n"
     ]
    }
   ],
   "source": [
    "animals = {'cat', 'dog'}\n",
    "# 检查元素是否在集合中; 输出 \"True\"\n",
    "print('cat' in animals)   \n",
    "# 输出 \"False\"\n",
    "print('fish' in animals)  "
   ]
  },
  {
   "cell_type": "code",
   "execution_count": 38,
   "metadata": {},
   "outputs": [
    {
     "name": "stdout",
     "output_type": "stream",
     "text": [
      "True\n",
      "3\n"
     ]
    }
   ],
   "source": [
    "# 将元素添加到集合中\n",
    "animals.add('fish')       \n",
    "# 输出 \"True\"\n",
    "print('fish' in animals)  \n",
    "# 统计集合中的元素数量; 输出 \"3\"\n",
    "print(len(animals))       "
   ]
  },
  {
   "cell_type": "code",
   "execution_count": 39,
   "metadata": {},
   "outputs": [
    {
     "name": "stdout",
     "output_type": "stream",
     "text": [
      "3\n"
     ]
    }
   ],
   "source": [
    "# 添加已经存在于集合中的元素没有任何效果\n",
    "animals.add('cat')        \n",
    "# 输出 \"3\"\n",
    "print(len(animals))       "
   ]
  },
  {
   "cell_type": "code",
   "execution_count": 40,
   "metadata": {},
   "outputs": [
    {
     "name": "stdout",
     "output_type": "stream",
     "text": [
      "2\n"
     ]
    }
   ],
   "source": [
    "# 从集合中删除一个元素\n",
    "animals.remove('cat')     \n",
    "# 输出 \"2\"\n",
    "print(len(animals))       "
   ]
  },
  {
   "cell_type": "markdown",
   "metadata": {},
   "source": [
    "**集合运算 Set Operations**\n",
    "\n",
    "通常用于计算数学运算，例如：交集，并集，差集和对称差集。"
   ]
  },
  {
   "cell_type": "markdown",
   "metadata": {},
   "source": [
    "求并集：\n",
    "\n",
    "![](./img/Set-Union_01.png)"
   ]
  },
  {
   "cell_type": "code",
   "execution_count": 41,
   "metadata": {},
   "outputs": [
    {
     "name": "stdout",
     "output_type": "stream",
     "text": [
      "{'blue', 'orange', 'yellow', 'red', 'green'}\n",
      "{'blue', 'orange', 'yellow', 'red', 'green'}\n"
     ]
    }
   ],
   "source": [
    "A = {'red', 'green', 'blue'}\n",
    "B = {'yellow', 'red', 'orange'}\n",
    "\n",
    "# 使用运算符\n",
    "print(A | B)\n",
    "# 输出 {'blue', 'green', 'yellow', 'orange', 'red'}\n",
    "\n",
    "# 使用方法\n",
    "print(A.union(B))\n",
    "# 输出 {'blue', 'green', 'yellow', 'orange', 'red'}"
   ]
  },
  {
   "cell_type": "markdown",
   "metadata": {},
   "source": [
    "求交集：\n",
    "\n",
    "![](./img/Set-Intersection_01.png)"
   ]
  },
  {
   "cell_type": "code",
   "execution_count": 42,
   "metadata": {},
   "outputs": [
    {
     "name": "stdout",
     "output_type": "stream",
     "text": [
      "{'red'}\n",
      "{'red'}\n"
     ]
    }
   ],
   "source": [
    "A = {'red', 'green', 'blue'}\n",
    "B = {'yellow', 'red', 'orange'}\n",
    "\n",
    "# 使用运算符\n",
    "print(A & B)\n",
    "# 输出 {'red'}\n",
    "\n",
    "# 使用方法\n",
    "print(A.intersection(B))\n",
    "# 输出 {'red'}"
   ]
  },
  {
   "cell_type": "markdown",
   "metadata": {},
   "source": [
    "求差集：\n",
    "\n",
    "![](./img/Set-Difference_01.png)"
   ]
  },
  {
   "cell_type": "code",
   "execution_count": 43,
   "metadata": {},
   "outputs": [
    {
     "name": "stdout",
     "output_type": "stream",
     "text": [
      "{'blue', 'green'}\n",
      "{'blue', 'green'}\n"
     ]
    }
   ],
   "source": [
    "A = {'red', 'green', 'blue'}\n",
    "B = {'yellow', 'red', 'orange'}\n",
    "\n",
    "# 使用运算符\n",
    "print(A - B)\n",
    "# 输出 {'blue', 'green'}\n",
    "\n",
    "# 使用方法\n",
    "print(A.difference(B))\n",
    "# 输出 {'blue', 'green'}"
   ]
  },
  {
   "cell_type": "markdown",
   "metadata": {},
   "source": [
    "求对称差集：\n",
    "\n",
    "![](./img/Set-Symmetric-Difference_01.png)"
   ]
  },
  {
   "cell_type": "code",
   "execution_count": 44,
   "metadata": {},
   "outputs": [
    {
     "name": "stdout",
     "output_type": "stream",
     "text": [
      "{'blue', 'orange', 'yellow', 'green'}\n",
      "{'blue', 'orange', 'yellow', 'green'}\n"
     ]
    }
   ],
   "source": [
    "A = {'red', 'green', 'blue'}\n",
    "B = {'yellow', 'red', 'orange'}\n",
    "\n",
    "# 使用运算符\n",
    "print(A ^ B)\n",
    "# 输出 {'orange', 'blue', 'green', 'yellow'}\n",
    "\n",
    "# 使用方法\n",
    "print(A.symmetric_difference(B))\n",
    "# 输出 {'orange', 'blue', 'green', 'yellow'}"
   ]
  },
  {
   "cell_type": "markdown",
   "metadata": {},
   "source": [
    "同样，你可以[在文档中](https://docs.python.org/3.7/library/stdtypes.html#set)，知道关于集合的一切。"
   ]
  },
  {
   "cell_type": "markdown",
   "metadata": {},
   "source": [
    "**循环 Loops：** 在集合中循环的语法和在列表中一样，但是集合是无序的，所以你在访问集合元素的时候，不能做关于顺序的假设。"
   ]
  },
  {
   "cell_type": "code",
   "execution_count": 45,
   "metadata": {},
   "outputs": [
    {
     "name": "stdout",
     "output_type": "stream",
     "text": [
      "#1: cat\n",
      "#2: fish\n",
      "#3: dog\n"
     ]
    }
   ],
   "source": [
    "animals = {'cat', 'dog', 'fish'}\n",
    "for idx, animal in enumerate(animals):\n",
    "    print('#%d: %s' % (idx + 1, animal))\n",
    "# 输出 \"#1: fish\", \"#2: dog\", \"#3: cat\""
   ]
  },
  {
   "cell_type": "markdown",
   "metadata": {},
   "source": [
    "**集合推导 Set comprehensions：** 像列表和字典，我们很容易就能用集合推导创建集合："
   ]
  },
  {
   "cell_type": "code",
   "execution_count": 46,
   "metadata": {},
   "outputs": [
    {
     "name": "stdout",
     "output_type": "stream",
     "text": [
      "{0, 1, 2, 3, 4, 5}\n"
     ]
    }
   ],
   "source": [
    "from math import sqrt\n",
    "\n",
    "# sqrt() 函数是 Python 编程语言中的内置函数，可返回任何数字的平方根\n",
    "nums = {int(sqrt(x)) for x in range(30)}\n",
    "# 输出 \"{0, 1, 2, 3, 4, 5}\"\n",
    "print(nums)  "
   ]
  },
  {
   "cell_type": "markdown",
   "metadata": {},
   "source": [
    "##### 元组 Tuples\n",
    "\n",
    "tuple 是一个 (不可变的) 有序值列表。元组在很多方面类似于列表；最重要的区别之一是元组可以用作字典中的键和集合的元素，而列表不能。\n",
    "\n",
    "<img src=\"./img/tuple-1024x576_01.jpg\" width=\"50%\">\n",
    "\n",
    "这里有一个简单的例子："
   ]
  },
  {
   "cell_type": "code",
   "execution_count": 47,
   "metadata": {},
   "outputs": [
    {
     "name": "stdout",
     "output_type": "stream",
     "text": [
      "(1, 2)\n",
      "<class 'tuple'>\n",
      "1\n"
     ]
    }
   ],
   "source": [
    "t=(1,2)\n",
    "print(t)\n",
    "print(type(t))\n",
    "print(t[0])"
   ]
  },
  {
   "cell_type": "code",
   "execution_count": 48,
   "metadata": {},
   "outputs": [
    {
     "name": "stdout",
     "output_type": "stream",
     "text": [
      "<class 'tuple'>\n",
      "5\n",
      "1\n"
     ]
    }
   ],
   "source": [
    "# 用元组键创建字典\n",
    "d = {(x, x + 1): x for x in range(10)}  \n",
    "# 创建一个元组\n",
    "t = (5, 6)        \n",
    "# 输出 \"<class 'tuple'>\"\n",
    "print(type(t))    \n",
    "# 输出 \"5\"\n",
    "print(d[t])       \n",
    "# 输出 \"1\"\n",
    "print(d[(1, 2)])  "
   ]
  },
  {
   "cell_type": "markdown",
   "metadata": {},
   "source": [
    "[在文档中](https://docs.python.org/3.7/tutorial/datastructures.html#tuples-and-sequences)，了解更多关于元组的信息。"
   ]
  },
  {
   "cell_type": "markdown",
   "metadata": {},
   "source": [
    "##### Python 数据类型结构小结\n",
    "\n",
    "![](./img/python_dtype_01.png)"
   ]
  },
  {
   "cell_type": "markdown",
   "metadata": {},
   "source": [
    "#### 1.4 函数\n",
    "\n",
    "Python 用 `def` 定义函数："
   ]
  },
  {
   "cell_type": "code",
   "execution_count": 49,
   "metadata": {},
   "outputs": [
    {
     "name": "stdout",
     "output_type": "stream",
     "text": [
      "negative\n",
      "zero\n",
      "positive\n"
     ]
    }
   ],
   "source": [
    "def sign(x):\n",
    "    if x > 0:\n",
    "        return 'positive'\n",
    "    elif x < 0:\n",
    "        return 'negative'\n",
    "    else:\n",
    "        return 'zero'\n",
    "\n",
    "for x in [-1, 0, 1]:\n",
    "    print(sign(x))\n",
    "# 输出 \"negative\", \"zero\", \"positive\""
   ]
  },
  {
   "cell_type": "markdown",
   "metadata": {},
   "source": [
    "我们常常使用可选参数定义函数："
   ]
  },
  {
   "cell_type": "code",
   "execution_count": 50,
   "metadata": {},
   "outputs": [
    {
     "name": "stdout",
     "output_type": "stream",
     "text": [
      "Hello, Bob\n",
      "HELLO, FRED!\n"
     ]
    }
   ],
   "source": [
    "def hello(name, loud=False):\n",
    "    if loud:\n",
    "        print('HELLO, %s!' % name.upper())\n",
    "    else:\n",
    "        print('Hello, %s' % name)\n",
    "\n",
    "# 输出 \"Hello, Bob\" \n",
    "hello('Bob') \n",
    "# 输出 \"HELLO, FRED!\"\n",
    "hello('Fred', loud=True)  "
   ]
  },
  {
   "cell_type": "markdown",
   "metadata": {},
   "source": [
    "关于函数的更多信息，[查看文档](https://docs.python.org/3.7/tutorial/controlflow.html#defining-functions)。"
   ]
  },
  {
   "cell_type": "markdown",
   "metadata": {},
   "source": [
    "#### 1.5 Lambda 表达式\n",
    "\n",
    "对于定义一个简单的函数，Python 还提供了另外一种方法：lambda 表达式。lambda 表达式，又称匿名函数，常用来表示内部仅包含一行表达式的函数。如果一个函数的函数体仅有一行表达式，则该函数就可以用 lambda 表达式来代替。语法如下：\n",
    "\n",
    "```python\n",
    "lambda [arg1 [,arg2,.....argn]]:expression\n",
    "```\n",
    "冒号前是参数，可以有多个，用逗号隔开，冒号右边的为表达式（只能为一个）。其实 lambda 返回值是一个函数的地址，也就是函数对象。譬如：将 lambda 函数赋值给一个变量，通过这个变量间接调用该 lambda 函数。"
   ]
  },
  {
   "cell_type": "code",
   "execution_count": 51,
   "metadata": {},
   "outputs": [
    {
     "name": "stdout",
     "output_type": "stream",
     "text": [
      "3\n"
     ]
    }
   ],
   "source": [
    "sum = lambda x,y : x+y\n",
    "print(sum(1,2))"
   ]
  },
  {
   "cell_type": "markdown",
   "metadata": {},
   "source": [
    "该语法格式转换成普通函数的形式，如下所示："
   ]
  },
  {
   "cell_type": "code",
   "execution_count": 52,
   "metadata": {},
   "outputs": [
    {
     "name": "stdout",
     "output_type": "stream",
     "text": [
      "3\n"
     ]
    }
   ],
   "source": [
    "def sum(x,y):\n",
    "    return x+y\n",
    "print(sum(1,2))"
   ]
  },
  {
   "cell_type": "markdown",
   "metadata": {},
   "source": [
    "显然，使用普通方法定义此函数，需要三行代码，而使用 lambda 表达式仅需一行。\n",
    "\n",
    "再譬如：将 lambda 函数作为参数传递给其他函数。部分 Python 内置函数接收函数作为参数。"
   ]
  },
  {
   "cell_type": "code",
   "execution_count": 53,
   "metadata": {},
   "outputs": [
    {
     "name": "stdout",
     "output_type": "stream",
     "text": [
      "[1, 3, 5, 7, 9]\n"
     ]
    }
   ],
   "source": [
    "print(list(filter(lambda x: x%2,range(10)))) #[1, 3, 5, 7, 9]"
   ]
  },
  {
   "cell_type": "markdown",
   "metadata": {},
   "source": [
    "$\\uparrow$ 此时 lambda 函数用于指定过滤列表元素的条件。该语法格式转换成普通函数的形式，如下所示："
   ]
  },
  {
   "cell_type": "code",
   "execution_count": 54,
   "metadata": {},
   "outputs": [
    {
     "name": "stdout",
     "output_type": "stream",
     "text": [
      "[1, 3, 5, 7, 9]\n"
     ]
    }
   ],
   "source": [
    "def odd(x):\n",
    "    return x%2\n",
    "temp = range(10)\n",
    "show = filter(odd,temp)\n",
    "print(list(show))   #[1, 3, 5, 7, 9]"
   ]
  },
  {
   "cell_type": "markdown",
   "metadata": {},
   "source": [
    "将 `if...else` 语句缩减为单一的条件表达式，语法为：`expression1 if A else expression2`；\n",
    "\n",
    "即：如果 `A` 为 `True`，条件表达式的结果为 `expression1`，否则为 `expression2`"
   ]
  },
  {
   "cell_type": "code",
   "execution_count": 55,
   "metadata": {},
   "outputs": [
    {
     "name": "stdout",
     "output_type": "stream",
     "text": [
      "no\n",
      "yes\n"
     ]
    }
   ],
   "source": [
    "s=lambda x:\"yes\" if x==1 else \"no\"\n",
    "print(s(0))\n",
    "print(s(1))"
   ]
  },
  {
   "cell_type": "markdown",
   "metadata": {},
   "source": [
    "该语法格式转换成普通函数的形式，如下所示："
   ]
  },
  {
   "cell_type": "code",
   "execution_count": 56,
   "metadata": {},
   "outputs": [
    {
     "name": "stdout",
     "output_type": "stream",
     "text": [
      "no\n",
      "yes\n"
     ]
    }
   ],
   "source": [
    "def s(x):\n",
    "    if x==1:\n",
    "        return \"yes\"\n",
    "    else:\n",
    "        return \"no\"\n",
    "print(s(0))\n",
    "print(s(1))"
   ]
  },
  {
   "cell_type": "markdown",
   "metadata": {},
   "source": [
    "#### 1.6 类\n",
    "\n",
    "Python 对于类的定义是简单直接的："
   ]
  },
  {
   "cell_type": "code",
   "execution_count": 57,
   "metadata": {},
   "outputs": [
    {
     "name": "stdout",
     "output_type": "stream",
     "text": [
      "Hello, Fred\n",
      "HELLO, FRED!\n"
     ]
    }
   ],
   "source": [
    "class Greeter(object):\n",
    "\n",
    "    # 构建器\n",
    "    def __init__(self, name):\n",
    "        # 创建一个实例变量\n",
    "        self.name = name  \n",
    "\n",
    "    # 实例方法\n",
    "    def greet(self, loud=False):\n",
    "        if loud:\n",
    "            print('HELLO, %s!' % self.name.upper())\n",
    "        else:\n",
    "            print('Hello, %s' % self.name)\n",
    "\n",
    "# 构造一个 Greeter 类的实例\n",
    "g = Greeter('Fred')  \n",
    "# 调用实例方法; 输出 \"Hello, Fred\"\n",
    "g.greet()            \n",
    "# 调用实例方法; 输出 \"HELLO, FRED!\"\n",
    "g.greet(loud=True)  "
   ]
  },
  {
   "cell_type": "markdown",
   "metadata": {},
   "source": [
    "了解更多关于类的信息，[查阅文档](https://docs.python.org/3.7/tutorial/classes.html)。"
   ]
  },
  {
   "cell_type": "markdown",
   "metadata": {},
   "source": [
    "### 2. Numpy\n",
    "\n",
    "Numpy 是 Python 中用于科学计算的核心库。它提供了一个高性能的多维数组对象，以及处理这些数组的工具。\n",
    "\n",
    "注：如果您已经熟悉 MATLAB，您可能会发现 [这个教程](https://docs.scipy.org/doc/numpy/user/numpy-for-matlab-users.html) 对您开始学习 Numpy 非常有用。"
   ]
  },
  {
   "cell_type": "markdown",
   "metadata": {},
   "source": [
    "#### 2.1 数组 Arrays\n",
    "\n",
    "一个 numpy 数组是一个由不同数值组成的网格。网格中的数据都是同一种数据类型，可以通过非负整型数的元组来访问。维度的数量被称为数组的阶，数组的大小是一个由整型数构成的元组，可以描述数组不同维度上的大小。\n",
    "\n",
    "我们可以从列表创建数组，然后利用方括号访问其中的元素，先来介绍最基础的一维数组。\n",
    "\n",
    "<img src=\"./img/1_01.png\" width=\"60%\">"
   ]
  },
  {
   "cell_type": "code",
   "execution_count": 58,
   "metadata": {},
   "outputs": [
    {
     "name": "stdout",
     "output_type": "stream",
     "text": [
      "<class 'numpy.ndarray'>\n",
      "(3,)\n",
      "1 2 3\n"
     ]
    }
   ],
   "source": [
    "import numpy as np\n",
    "\n",
    "# 创建一个维数为 1 的数组\n",
    "a = np.array([1, 2, 3])   \n",
    "# 输出 \"<class 'numpy.ndarray'>\"\n",
    "print(type(a))            \n",
    "# 输出 \"(3,)\"\n",
    "print(a.shape)            \n",
    "# 输出 \"1 2 3\"\n",
    "print(a[0], a[1], a[2])   "
   ]
  },
  {
   "cell_type": "markdown",
   "metadata": {},
   "source": [
    "Numpy 还提供了许多创建的方法，譬如全 1，全 0 或者随机值：\n",
    "\n",
    "![](./img/4_01.png)"
   ]
  },
  {
   "cell_type": "code",
   "execution_count": 59,
   "metadata": {},
   "outputs": [
    {
     "name": "stdout",
     "output_type": "stream",
     "text": [
      "[1. 1. 1.]\n"
     ]
    }
   ],
   "source": [
    "# 创建一个全 1 的数组\n",
    "a=np.ones(3) \n",
    "# 输出 \"[1. 1. 1.]\"\n",
    "print(a)     "
   ]
  },
  {
   "cell_type": "code",
   "execution_count": 60,
   "metadata": {},
   "outputs": [
    {
     "name": "stdout",
     "output_type": "stream",
     "text": [
      "[0. 0. 0.]\n"
     ]
    }
   ],
   "source": [
    "# 创建一个全 0 的数组\n",
    "a=np.zeros(3) \n",
    "# 输出 \"[0. 0. 0.]\"\n",
    "print(a)      "
   ]
  },
  {
   "cell_type": "code",
   "execution_count": 61,
   "metadata": {},
   "outputs": [
    {
     "name": "stdout",
     "output_type": "stream",
     "text": [
      "[0.15715986 0.7982902  0.11644831]\n"
     ]
    }
   ],
   "source": [
    "# 创建一个有随机数填充的数组\n",
    "a=np.random.random(3) \n",
    "# 随机输出 \"[0.12929291 0.46408194 0.98451008]“\n",
    "print(a)              "
   ]
  },
  {
   "cell_type": "code",
   "execution_count": 62,
   "metadata": {},
   "outputs": [
    {
     "name": "stdout",
     "output_type": "stream",
     "text": [
      "[5.         0.7982902  0.11644831]\n"
     ]
    }
   ],
   "source": [
    "# 更改数组的元素\n",
    "a[0] = 5                  \n",
    "# 输出 \"[5, 2, 3]\"\n",
    "print(a)                  "
   ]
  },
  {
   "cell_type": "markdown",
   "metadata": {},
   "source": [
    "上面是一维数组，下面是二维数组，也就是 **矩阵**：\n",
    "\n",
    "![](./img/2_01.png)"
   ]
  },
  {
   "cell_type": "code",
   "execution_count": 63,
   "metadata": {},
   "outputs": [
    {
     "name": "stdout",
     "output_type": "stream",
     "text": [
      "(2, 3)\n"
     ]
    }
   ],
   "source": [
    "# 创建一个维数为 2 的数组(矩阵)\n",
    "b = np.array([[1,2,3],[4,5,6]])    \n",
    "# 矩阵形状，先行后列输出 \"(2, 3)\"\n",
    "print(b.shape)                     "
   ]
  },
  {
   "cell_type": "markdown",
   "metadata": {},
   "source": [
    "二维数组的对应位置如下图所示：\n",
    "\n",
    "![](./img/index_01.png)"
   ]
  },
  {
   "cell_type": "code",
   "execution_count": 64,
   "metadata": {},
   "outputs": [
    {
     "name": "stdout",
     "output_type": "stream",
     "text": [
      "1 2 4\n"
     ]
    }
   ],
   "source": [
    "# 根据矩阵位置输出值，输出 \"1 2 4\"\n",
    "print(b[0, 0], b[0, 1], b[1, 0])   "
   ]
  },
  {
   "cell_type": "markdown",
   "metadata": {},
   "source": [
    "Numpy 还提供了许多创建的方法，譬如全 1，全 0 或者随机值：\n",
    "\n",
    "![](./img/3_01.png)"
   ]
  },
  {
   "cell_type": "code",
   "execution_count": 65,
   "metadata": {},
   "outputs": [
    {
     "name": "stdout",
     "output_type": "stream",
     "text": [
      "[[0. 0.]\n",
      " [0. 0.]]\n"
     ]
    }
   ],
   "source": [
    "import numpy as np\n",
    "\n",
    "# 创建一个全零的 2x2 矩阵(数组)\n",
    "a = np.zeros((2,2))   \n",
    "# 输出 \"[[ 0.  0.]\n",
    "#       [ 0.  0.]]\"\n",
    "print(a)              "
   ]
  },
  {
   "cell_type": "code",
   "execution_count": 66,
   "metadata": {},
   "outputs": [
    {
     "data": {
      "text/plain": [
       "array([[[1., 1., 1.],\n",
       "        [1., 1., 1.]]])"
      ]
     },
     "execution_count": 66,
     "metadata": {},
     "output_type": "execute_result"
    }
   ],
   "source": [
    "a = np.ones((1,2,3))\n",
    "a"
   ]
  },
  {
   "cell_type": "code",
   "execution_count": 67,
   "metadata": {},
   "outputs": [
    {
     "name": "stdout",
     "output_type": "stream",
     "text": [
      "[[1. 1.]]\n"
     ]
    }
   ],
   "source": [
    "# 创建一个全 1 的矩阵(数组)\n",
    "b = np.ones((1,2))    \n",
    "# 输出 \"[[ 1.  1.]]\"\n",
    "print(b)              "
   ]
  },
  {
   "cell_type": "code",
   "execution_count": 68,
   "metadata": {},
   "outputs": [
    {
     "name": "stdout",
     "output_type": "stream",
     "text": [
      "[[7 7]\n",
      " [7 7]]\n"
     ]
    }
   ],
   "source": [
    "# 创建一个常量矩阵(数组)\n",
    "c = np.full((2,2), 7)  \n",
    "# 输出 \"[[ 7.  7.]\n",
    "#       [ 7.  7.]]\"\n",
    "print(c)               "
   ]
  },
  {
   "cell_type": "code",
   "execution_count": 69,
   "metadata": {},
   "outputs": [
    {
     "name": "stdout",
     "output_type": "stream",
     "text": [
      "[[1. 0.]\n",
      " [0. 1.]]\n"
     ]
    }
   ],
   "source": [
    "# np.eye() 内置函数，返回一个二维数组，对角线上为 1，其他地方为 0。\n",
    "\n",
    "# 创建一个 2x2 矩阵(数组)\n",
    "d = np.eye(2)         \n",
    "# 输出 \"[[ 1.  0.]\n",
    "#       [ 0.  1.]]\"\n",
    "print(d)              "
   ]
  },
  {
   "cell_type": "code",
   "execution_count": 70,
   "metadata": {},
   "outputs": [
    {
     "name": "stdout",
     "output_type": "stream",
     "text": [
      "[[0.9829376  0.69669553]\n",
      " [0.70919479 0.55266428]]\n"
     ]
    }
   ],
   "source": [
    "# 创建一个填充有随机值的数组\n",
    "e = np.random.random((2,2))  \n",
    "# 随机输出 \"[[ 0.91940167  0.08143941]\n",
    "#           [ 0.68744134  0.87236687]]\"\n",
    "print(e)                     "
   ]
  },
  {
   "cell_type": "markdown",
   "metadata": {},
   "source": [
    "[详细文档](http://docs.scipy.org/doc/numpy/user/basics.creation.html#arrays-creation)。"
   ]
  },
  {
   "cell_type": "markdown",
   "metadata": {},
   "source": [
    "#### 2.2 访问数组 Array indexing\n",
    "\n",
    "Numpy 提供了几种方法访问数组。\n",
    "\n",
    "**切片 Slicing：** 类似 Python 的列表，numpy 数组可以使用切片语法。因为数组是多维的，所以你必须为每个维度指定好切片：\n",
    "\n",
    "<img src=\"./img/numpy_indexing_01.png\" width=\"50%\">"
   ]
  },
  {
   "cell_type": "code",
   "execution_count": 71,
   "metadata": {},
   "outputs": [
    {
     "name": "stdout",
     "output_type": "stream",
     "text": [
      "[[ 1  2  3  4]\n",
      " [ 5  6  7  8]\n",
      " [ 9 10 11 12]]\n"
     ]
    }
   ],
   "source": [
    "import numpy as np\n",
    "\n",
    "# 创建具有形状的以下二维数组 (3, 4)\n",
    "# [[ 1  2  3  4]\n",
    "#  [ 5  6  7  8]\n",
    "#  [ 9 10 11 12]]\n",
    "a = np.array([[1,2,3,4], [5,6,7,8], [9,10,11,12]])\n",
    "print(a)"
   ]
  },
  {
   "cell_type": "code",
   "execution_count": 72,
   "metadata": {},
   "outputs": [
    {
     "name": "stdout",
     "output_type": "stream",
     "text": [
      "[[2 3]\n",
      " [6 7]]\n"
     ]
    }
   ],
   "source": [
    "# 使用切片抽取由前 2 行，以及第 1 和第 2 列；组成的子数组\n",
    "# b 是以下形状数组（2，2）：\n",
    "# [[2 3]\n",
    "#  [6 7]]\n",
    "b = a[:2, 1:3]\n",
    "print(b)"
   ]
  },
  {
   "cell_type": "code",
   "execution_count": 73,
   "metadata": {},
   "outputs": [
    {
     "name": "stdout",
     "output_type": "stream",
     "text": [
      "2\n",
      "77\n"
     ]
    }
   ],
   "source": [
    "# 数组的一个切片只是对相同数据的不同视图，因此，对其进行修改将修改原始数组。\n",
    "\n",
    "# 输出 \"2\"\n",
    "print(a[0, 1])   \n",
    "# b[0, 0] 与 a[0, 1] 代表的是相同的数据\n",
    "b[0, 0] = 77     \n",
    "# 输出 \"77\"\n",
    "print(a[0, 1])   "
   ]
  },
  {
   "cell_type": "markdown",
   "metadata": {},
   "source": [
    "你可以同时使用整型和切片语法来访问数组。但是，这样做会产生一个比原数组低阶的新数组。需要注意的是，这里和 MATLAB 中的情况是不同的："
   ]
  },
  {
   "cell_type": "code",
   "execution_count": 74,
   "metadata": {},
   "outputs": [
    {
     "name": "stdout",
     "output_type": "stream",
     "text": [
      "[[ 1  2  3  4]\n",
      " [ 5  6  7  8]\n",
      " [ 9 10 11 12]]\n"
     ]
    }
   ],
   "source": [
    "import numpy as np\n",
    "\n",
    "# 创建具有形状的以下二维数组 (3, 4)\n",
    "# [[ 1  2  3  4]\n",
    "#  [ 5  6  7  8]\n",
    "#  [ 9 10 11 12]]\n",
    "a = np.array([[1,2,3,4], [5,6,7,8], [9,10,11,12]])\n",
    "print(a)"
   ]
  },
  {
   "cell_type": "markdown",
   "metadata": {},
   "source": [
    "仔细对比下图示例与代码举例：\n",
    "\n",
    "![](./img/Gi8sE_01.png)"
   ]
  },
  {
   "cell_type": "code",
   "execution_count": 75,
   "metadata": {},
   "outputs": [
    {
     "name": "stdout",
     "output_type": "stream",
     "text": [
      "[5 6 7 8] (4,)\n",
      "[[5 6 7 8]] (1, 4)\n"
     ]
    }
   ],
   "source": [
    "# 有两种访问数组中间行数据的方式：\n",
    "# 将整数索引与 slice 混合会产生一个较低维的数组\n",
    "# 或者，仅使用 slices 会产生与原始数组具有相同维数的数组\n",
    "\n",
    "# 数组 a 第二行的一维 (Rank 1) 视图 \n",
    "row_r1 = a[1, :]    \n",
    "# 数组 a 第二行的二维 (Rank 2) 视图 \n",
    "row_r2 = a[1:2, :]  \n",
    "# 输出 \"[5 6 7 8] (4,)\"\n",
    "print(row_r1, row_r1.shape)  \n",
    "# 输出 \"[[5 6 7 8]] (1, 4)\"\n",
    "print(row_r2, row_r2.shape)  "
   ]
  },
  {
   "cell_type": "code",
   "execution_count": 76,
   "metadata": {},
   "outputs": [
    {
     "name": "stdout",
     "output_type": "stream",
     "text": [
      "[ 2  6 10] (3,)\n",
      "[[ 2]\n",
      " [ 6]\n",
      " [10]] (3, 1)\n"
     ]
    }
   ],
   "source": [
    "# 当访问数组的列时，我们可以做出相同的区分：\n",
    "col_r1 = a[:, 1]\n",
    "col_r2 = a[:, 1:2]\n",
    "# 输出 \"[ 2  6 10] (3,)\"\n",
    "print(col_r1, col_r1.shape)  \n",
    "# 输出 \"[[ 2]\n",
    "#        [ 6]\n",
    "#        [10]] (3, 1)\"\n",
    "print(col_r2, col_r2.shape)  "
   ]
  },
  {
   "cell_type": "markdown",
   "metadata": {},
   "source": [
    "**整型数组访问 (Integer array indexing)：** \n",
    "\n",
    "当我们使用切片语法访问数组时，得到的总是原数组的一个子集。整型数组访问允许我们利用其它数组的数据构建一个新的数组："
   ]
  },
  {
   "cell_type": "code",
   "execution_count": 77,
   "metadata": {},
   "outputs": [],
   "source": [
    "import numpy as np\n",
    "\n",
    "a = np.array([[1,2], [3, 4], [5, 6]])"
   ]
  },
  {
   "cell_type": "code",
   "execution_count": 78,
   "metadata": {},
   "outputs": [
    {
     "name": "stdout",
     "output_type": "stream",
     "text": [
      "[1 4 5]\n"
     ]
    }
   ],
   "source": [
    "# 整数数组索引的示例。\n",
    "# 返回的数组将具有形状（3，）\n",
    "# 输出 \"[1 4 5]\"\n",
    "print(a[[0, 1, 2], [0, 1, 0]])  "
   ]
  },
  {
   "cell_type": "code",
   "execution_count": 79,
   "metadata": {},
   "outputs": [
    {
     "name": "stdout",
     "output_type": "stream",
     "text": [
      "[1 4 5]\n"
     ]
    }
   ],
   "source": [
    "# 上面的整数数组索引示例与此等效:\n",
    "# 输出 \"[1 4 5]\"\n",
    "print(np.array([a[0, 0], a[1, 1], a[2, 0]]))  "
   ]
  },
  {
   "cell_type": "code",
   "execution_count": 80,
   "metadata": {},
   "outputs": [
    {
     "name": "stdout",
     "output_type": "stream",
     "text": [
      "[2 2]\n"
     ]
    }
   ],
   "source": [
    "# 使用整数数组索引时，可以重用源数组中的相同元素:\n",
    "# 输出 \"[2 2]\"\n",
    "print(a[[0, 0], [1, 1]])  "
   ]
  },
  {
   "cell_type": "code",
   "execution_count": 81,
   "metadata": {},
   "outputs": [
    {
     "name": "stdout",
     "output_type": "stream",
     "text": [
      "[2 2]\n"
     ]
    }
   ],
   "source": [
    "# 等效于前面的整数数组索引示例\n",
    "# 输出 \"[2 2]\"\n",
    "print(np.array([a[0, 1], a[0, 1]]))  "
   ]
  },
  {
   "cell_type": "markdown",
   "metadata": {},
   "source": [
    "整型数组访问语法还有个有用的技巧，可以用来选择或者更改矩阵中每行中的一个元素："
   ]
  },
  {
   "cell_type": "code",
   "execution_count": 82,
   "metadata": {},
   "outputs": [
    {
     "name": "stdout",
     "output_type": "stream",
     "text": [
      "[[ 1  2  3]\n",
      " [ 4  5  6]\n",
      " [ 7  8  9]\n",
      " [10 11 12]]\n"
     ]
    }
   ],
   "source": [
    "import numpy as np\n",
    "\n",
    "# 创建一个新数组，我们将从中选择元素\n",
    "a = np.array([[1,2,3], [4,5,6], [7,8,9], [10, 11, 12]])\n",
    "\n",
    "# 输出 \"数组 ([[ 1,  2,  3],\n",
    "#              [ 4,  5,  6],\n",
    "#              [ 7,  8,  9],\n",
    "#              [10, 11, 12]])\"\n",
    "print(a)  "
   ]
  },
  {
   "cell_type": "code",
   "execution_count": 83,
   "metadata": {},
   "outputs": [
    {
     "name": "stdout",
     "output_type": "stream",
     "text": [
      "[ 1  6  7 11]\n"
     ]
    }
   ],
   "source": [
    "# 创建索引数组\n",
    "b = np.array([0, 2, 0, 1])\n",
    "\n",
    "# 使用 b 中的索引，从 a 的每一行中选择对应索引位置的元素\n",
    "# 输出 \"[ 1  6  7 11]\"\n",
    "print(a[np.arange(4), b])  "
   ]
  },
  {
   "cell_type": "code",
   "execution_count": 84,
   "metadata": {},
   "outputs": [
    {
     "name": "stdout",
     "output_type": "stream",
     "text": [
      "[[11  2  3]\n",
      " [ 4  5 16]\n",
      " [17  8  9]\n",
      " [10 21 12]]\n"
     ]
    }
   ],
   "source": [
    "# 使用 b 中的索引，对 a 的每一行中的对应索引位置的元素进行运算\n",
    "a[np.arange(4), b] += 10\n",
    "\n",
    "# 输出 \"数组 ([[11,  2,  3],\n",
    "#             [ 4,  5, 16],\n",
    "#             [17,  8,  9],\n",
    "#             [10, 21, 12]])\n",
    "print(a)  "
   ]
  },
  {
   "cell_type": "markdown",
   "metadata": {},
   "source": [
    "**布尔型数组访问：** 布尔数组访问允许您挑选数组中的任意元素。这种类型的索引通常用于选择满足某些条件的数组元素。"
   ]
  },
  {
   "cell_type": "code",
   "execution_count": 85,
   "metadata": {},
   "outputs": [
    {
     "name": "stdout",
     "output_type": "stream",
     "text": [
      "[[False False]\n",
      " [ True  True]\n",
      " [ True  True]]\n"
     ]
    }
   ],
   "source": [
    "import numpy as np\n",
    "\n",
    "a = np.array([[1,2], [3, 4], [5, 6]])\n",
    "\n",
    "# 查找大于 2 的元素；\n",
    "# 这将返回相同的布尔值的 numpy 数组\n",
    "# 形状为 a，其中 bool_idx 的每个 slot \n",
    "# 告诉你在 a 的对应索引位置的上的元素是否大于 2\n",
    "bool_idx = (a > 2)   \n",
    "\n",
    "# 输出 \"[[False False]\n",
    "#        [ True  True]\n",
    "#        [ True  True]]\"\n",
    "print(bool_idx)"
   ]
  },
  {
   "cell_type": "code",
   "execution_count": 86,
   "metadata": {},
   "outputs": [
    {
     "name": "stdout",
     "output_type": "stream",
     "text": [
      "[3 4 5 6]\n"
     ]
    }
   ],
   "source": [
    "# 我们使用布尔数组索引来构建秩为 1 的数组\n",
    "# 由与 True 值相对应的元素组成\n",
    "# bool_idx\n",
    "# 输出 \"[3 4 5 6]\"\n",
    "print(a[bool_idx])  "
   ]
  },
  {
   "cell_type": "code",
   "execution_count": 87,
   "metadata": {},
   "outputs": [
    {
     "name": "stdout",
     "output_type": "stream",
     "text": [
      "[3 4 5 6]\n"
     ]
    }
   ],
   "source": [
    "# 我们可以在一个简洁的语句中完成上述所有操作：\n",
    "# 输出 \"[3 4 5 6]\"\n",
    "print(a[a > 2])     "
   ]
  },
  {
   "cell_type": "markdown",
   "metadata": {},
   "source": [
    "为简便起见，我们省略了有关 numpy 数组索引的许多详细信息；如果您想了解更多信息，[请阅读文档](http://docs.scipy.org/doc/numpy/reference/arrays.indexing.html)。"
   ]
  },
  {
   "cell_type": "markdown",
   "metadata": {},
   "source": [
    "#### 2.3 数据类型\n",
    "\n",
    "每个 numpy 数组都是相同类型元素的网格。Numpy 提供了大量的数字数据类型，您可以使用它们来构造数组。在创建数组时，Numpy 尝试猜测数据类型，但是构造数组的函数通常还包含一个可选参数来显式地指定数据类型。"
   ]
  },
  {
   "cell_type": "code",
   "execution_count": 88,
   "metadata": {},
   "outputs": [
    {
     "name": "stdout",
     "output_type": "stream",
     "text": [
      "int64\n"
     ]
    }
   ],
   "source": [
    "import numpy as np\n",
    "\n",
    "# 让 numpy 自动选择数据类型\n",
    "x = np.array([1, 2])   \n",
    "# 输出 \"int64\"\n",
    "print(x.dtype)         "
   ]
  },
  {
   "cell_type": "code",
   "execution_count": 89,
   "metadata": {},
   "outputs": [
    {
     "name": "stdout",
     "output_type": "stream",
     "text": [
      "float64\n"
     ]
    }
   ],
   "source": [
    "# 让 numpy 自动选择数据类型\n",
    "x = np.array([1.0, 2.0])   \n",
    "# 输出 \"float64\"\n",
    "print(x.dtype)             "
   ]
  },
  {
   "cell_type": "code",
   "execution_count": 90,
   "metadata": {},
   "outputs": [
    {
     "name": "stdout",
     "output_type": "stream",
     "text": [
      "int64\n"
     ]
    }
   ],
   "source": [
    "# 强制使用特定的数据类型\n",
    "x = np.array([1, 2], dtype=np.int64)   \n",
    "print(x.dtype)"
   ]
  },
  {
   "cell_type": "markdown",
   "metadata": {},
   "source": [
    "了解更多，[查看文档](http://docs.scipy.org/doc/numpy/reference/arrays.dtypes.html)。"
   ]
  },
  {
   "cell_type": "markdown",
   "metadata": {},
   "source": [
    "#### 2.4 数组计算\n",
    "\n",
    "基本数学计算函数会对数组中元素逐个进行计算，既可以利用操作符重载，也可以使用函数方式："
   ]
  },
  {
   "cell_type": "code",
   "execution_count": 91,
   "metadata": {},
   "outputs": [],
   "source": [
    "import numpy as np\n",
    "\n",
    "x = np.array([[1,2],[3,4]], dtype=np.float64)\n",
    "y = np.array([[5,6],[7,8]], dtype=np.float64)"
   ]
  },
  {
   "cell_type": "markdown",
   "metadata": {},
   "source": [
    "**数组求和**\n",
    "\n",
    "<img src=\"./img/arrsum_01.png\" width=\"60%\">"
   ]
  },
  {
   "cell_type": "code",
   "execution_count": 92,
   "metadata": {},
   "outputs": [
    {
     "name": "stdout",
     "output_type": "stream",
     "text": [
      "[[ 6.  8.]\n",
      " [10. 12.]]\n",
      "[[ 6.  8.]\n",
      " [10. 12.]]\n"
     ]
    }
   ],
   "source": [
    "# 按元素求和；两种方式都会产生数组\n",
    "# [[ 6.0  8.0]\n",
    "#  [10.0 12.0]]\n",
    "# 使用运算符\n",
    "print(x + y)         \n",
    "# 使用函数\n",
    "print(np.add(x, y))  "
   ]
  },
  {
   "cell_type": "markdown",
   "metadata": {},
   "source": [
    "特别的，一个二维数组与一维数组(一行)相加：\n",
    "\n",
    "<img src=\"./img/5_01.png\" width=\"80%\">"
   ]
  },
  {
   "cell_type": "code",
   "execution_count": 93,
   "metadata": {},
   "outputs": [
    {
     "name": "stdout",
     "output_type": "stream",
     "text": [
      "[[2. 3.]\n",
      " [4. 5.]]\n",
      "[[2. 3.]\n",
      " [4. 5.]]\n"
     ]
    }
   ],
   "source": [
    "# 按元素求和；两种方式都会产生数组\n",
    "# [[ 2  3]\n",
    "#  [4  5]]\n",
    "z = np.array([1,1])\n",
    "# 使用运算符\n",
    "print(x + z)         \n",
    "# 使用函数\n",
    "print(np.add(x, z))  "
   ]
  },
  {
   "cell_type": "markdown",
   "metadata": {},
   "source": [
    "**数组相减、相乘、相除**\n",
    "\n",
    "![](./img/dcf257336690882b7df03e67b191c1ff_01.png)"
   ]
  },
  {
   "cell_type": "code",
   "execution_count": 94,
   "metadata": {},
   "outputs": [
    {
     "name": "stdout",
     "output_type": "stream",
     "text": [
      "[[-4. -4.]\n",
      " [-4. -4.]]\n",
      "[[-4. -4.]\n",
      " [-4. -4.]]\n"
     ]
    }
   ],
   "source": [
    "# 按元素求差；两种方式都会产生数组\n",
    "# [[-4.0 -4.0]\n",
    "#  [-4.0 -4.0]]\n",
    "# 使用运算符\n",
    "print(x - y)              \n",
    "# 使用函数\n",
    "print(np.subtract(x, y))  "
   ]
  },
  {
   "cell_type": "code",
   "execution_count": 95,
   "metadata": {},
   "outputs": [
    {
     "name": "stdout",
     "output_type": "stream",
     "text": [
      "[[ 5. 12.]\n",
      " [21. 32.]]\n",
      "[[ 5. 12.]\n",
      " [21. 32.]]\n"
     ]
    }
   ],
   "source": [
    "# 元素乘积；两种方式都产生数组\n",
    "# [[ 5.0 12.0]\n",
    "#  [21.0 32.0]]\n",
    "# 使用运算符\n",
    "print(x * y)              \n",
    "# 使用函数\n",
    "print(np.multiply(x, y))  "
   ]
  },
  {
   "cell_type": "code",
   "execution_count": 96,
   "metadata": {},
   "outputs": [
    {
     "name": "stdout",
     "output_type": "stream",
     "text": [
      "[[0.2        0.33333333]\n",
      " [0.42857143 0.5       ]]\n",
      "[[0.2        0.33333333]\n",
      " [0.42857143 0.5       ]]\n"
     ]
    }
   ],
   "source": [
    "# 元素相除；两种方式都产生数组\n",
    "# [[ 0.2         0.33333333]\n",
    "#  [ 0.42857143  0.5       ]]\n",
    "# 使用运算符\n",
    "print(x / y)              \n",
    "# 使用函数\n",
    "print(np.divide(x, y))    "
   ]
  },
  {
   "cell_type": "markdown",
   "metadata": {},
   "source": [
    "**数组与常量计算**\n",
    "\n",
    "<img src=\"./img/arr1_01.png\" width=\"80%\">"
   ]
  },
  {
   "cell_type": "code",
   "execution_count": 97,
   "metadata": {},
   "outputs": [
    {
     "name": "stdout",
     "output_type": "stream",
     "text": [
      "[1.6 3.2]\n"
     ]
    }
   ],
   "source": [
    "# [1.6 3.2]\n",
    "z = np.array([1,2], dtype=np.float64)\n",
    "# 使用运算符\n",
    "print(z * 1.6)                        "
   ]
  },
  {
   "cell_type": "code",
   "execution_count": 98,
   "metadata": {},
   "outputs": [
    {
     "name": "stdout",
     "output_type": "stream",
     "text": [
      "[[1.         1.41421356]\n",
      " [1.73205081 2.        ]]\n"
     ]
    }
   ],
   "source": [
    "# 求元素平方根；使用函数产生数组\n",
    "# [[ 1.          1.41421356]\n",
    "#  [ 1.73205081  2.        ]]\n",
    "print(np.sqrt(x))"
   ]
  },
  {
   "cell_type": "markdown",
   "metadata": {},
   "source": [
    "**矩阵点积**\n",
    "\n",
    "和 MATLAB 不同，`*` 是元素逐个相乘，而不是矩阵乘法。在 Numpy 中使用 **`dot`** 来进行矩阵乘法："
   ]
  },
  {
   "cell_type": "code",
   "execution_count": 99,
   "metadata": {},
   "outputs": [],
   "source": [
    "import numpy as np\n",
    "\n",
    "x = np.array([[1,2],[3,4]])\n",
    "y = np.array([[5,6],[7,8]])\n",
    "\n",
    "v = np.array([9,10])\n",
    "w = np.array([11,12])"
   ]
  },
  {
   "cell_type": "markdown",
   "metadata": {},
   "source": [
    "向量点积，运算过程如下：\n",
    "\n",
    "<img src=\"./img/numpy-basic-image-exercise-33_01.jpg\" width=\"30%\">"
   ]
  },
  {
   "cell_type": "code",
   "execution_count": 100,
   "metadata": {},
   "outputs": [
    {
     "name": "stdout",
     "output_type": "stream",
     "text": [
      "219\n",
      "219\n"
     ]
    }
   ],
   "source": [
    "# 向量的内积；两种方式都产生 219\n",
    "# 注意与数组相乘结果对比，数组相乘返回依然为数组\n",
    "print(v.dot(w))\n",
    "print(np.dot(v, w))"
   ]
  },
  {
   "cell_type": "markdown",
   "metadata": {},
   "source": [
    "矩阵与向量点积，运算过程如下：\n",
    "\n",
    "<img src=\"./img/6_01.png\" width=\"80%\">\n",
    "\n",
    "进一步拆分解释：\n",
    "\n",
    "<img src=\"./img/7_01.png\" width=\"80%\">"
   ]
  },
  {
   "cell_type": "code",
   "execution_count": 101,
   "metadata": {},
   "outputs": [
    {
     "name": "stdout",
     "output_type": "stream",
     "text": [
      "[29 67]\n",
      "[29 67]\n"
     ]
    }
   ],
   "source": [
    "# 矩阵/向量乘积；都产生一维数组 [29 67]\n",
    "print(x.dot(v))\n",
    "print(np.dot(x, v))"
   ]
  },
  {
   "cell_type": "markdown",
   "metadata": {},
   "source": [
    "矩阵相乘，运算过程如下：\n",
    "\n",
    "![](./img/dot-product_01.png)"
   ]
  },
  {
   "cell_type": "code",
   "execution_count": 102,
   "metadata": {},
   "outputs": [
    {
     "name": "stdout",
     "output_type": "stream",
     "text": [
      "[[19 22]\n",
      " [43 50]]\n",
      "[[19 22]\n",
      " [43 50]]\n"
     ]
    }
   ],
   "source": [
    "# 矩阵/矩阵乘积；都产生二维数组\n",
    "# [[19 22]\n",
    "#  [43 50]]\n",
    "print(x.dot(y))\n",
    "print(np.dot(x, y))"
   ]
  },
  {
   "cell_type": "markdown",
   "metadata": {},
   "source": [
    "Numpy 提供了很多计算数组的函数，其中最有用的一个是 `sum`：\n",
    "\n",
    "<img src=\"./img/numpy-sum_01.png\" width=\"40%\">"
   ]
  },
  {
   "cell_type": "code",
   "execution_count": 103,
   "metadata": {},
   "outputs": [
    {
     "name": "stdout",
     "output_type": "stream",
     "text": [
      "6\n",
      "[2 4]\n",
      "[1 5]\n"
     ]
    }
   ],
   "source": [
    "import numpy as np\n",
    "\n",
    "x = np.array([[0,1],[2,3]])\n",
    "\n",
    "# 计算所有元素的总和; 输出 \"6\"\n",
    "print(np.sum(x))  \n",
    "# 计算每一列的总和; 输出 \"[2 4]\"\n",
    "print(np.sum(x, axis=0))  \n",
    "# 计算每一行的总和; 输出 \"[1 5]\"\n",
    "print(np.sum(x, axis=1))  "
   ]
  },
  {
   "cell_type": "markdown",
   "metadata": {},
   "source": [
    "您可以 [在文档中](http://docs.scipy.org/doc/numpy/reference/routines.math.html) 找到 numpy 提供的数学函数的完整列表。"
   ]
  },
  {
   "cell_type": "markdown",
   "metadata": {},
   "source": [
    "**矩阵转置**\n",
    "\n",
    "除了计算，我们还常常改变数组或者操作其中的元素。其中将矩阵转置是常用的一个，在 Numpy 中，使用 `T` 来转置矩阵：\n",
    "\n",
    "<img src=\"./img/matrixT_01.png\" width=\"60%\">"
   ]
  },
  {
   "cell_type": "code",
   "execution_count": 104,
   "metadata": {},
   "outputs": [
    {
     "name": "stdout",
     "output_type": "stream",
     "text": [
      "[[1 2]\n",
      " [3 4]]\n",
      "[[1 3]\n",
      " [2 4]]\n"
     ]
    }
   ],
   "source": [
    "import numpy as np\n",
    "\n",
    "x = np.array([[1,2], [3,4]])\n",
    "# 输出 \"[[1 2]\n",
    "#       [3 4]]\"\n",
    "print(x)    \n",
    "# 输出 \"[[1 3]\n",
    "#       [2 4]]\"\n",
    "print(x.T)  "
   ]
  },
  {
   "cell_type": "markdown",
   "metadata": {},
   "source": [
    "再举一个例子，参考上面的示例图："
   ]
  },
  {
   "cell_type": "code",
   "execution_count": 105,
   "metadata": {},
   "outputs": [
    {
     "name": "stdout",
     "output_type": "stream",
     "text": [
      "[[1 2]\n",
      " [3 4]\n",
      " [5 6]]\n",
      "[[1 3 5]\n",
      " [2 4 6]]\n"
     ]
    }
   ],
   "source": [
    "import numpy as np\n",
    "\n",
    "x = np.array([[1,2], [3,4], [5,6]])\n",
    "# 输出 \"[[1 2]\n",
    "#       [3 4]]\n",
    "#       [5 6]\"\n",
    "print(x)    \n",
    "# 输出 \"[[1 3 5]\n",
    "#       [2 4 6]]\"\n",
    "print(x.T)  "
   ]
  },
  {
   "cell_type": "code",
   "execution_count": 106,
   "metadata": {},
   "outputs": [
    {
     "name": "stdout",
     "output_type": "stream",
     "text": [
      "[1 2 3]\n",
      "[1 2 3]\n"
     ]
    }
   ],
   "source": [
    "# 请注意，对一维数组进行转置不会执行任何操作：\n",
    "v = np.array([1,2,3])\n",
    "# 输出 \"[1 2 3]\"\n",
    "print(v)    \n",
    "# 输出 \"[1 2 3]\"\n",
    "print(v.T)  "
   ]
  },
  {
   "cell_type": "markdown",
   "metadata": {},
   "source": [
    "Numpy 提供了更多的操作数组的功能。 您可以 [在文档中](http://docs.scipy.org/doc/numpy/reference/routines.array-manipulation.html) 看到完整列表。"
   ]
  },
  {
   "cell_type": "markdown",
   "metadata": {},
   "source": [
    "#### 2.5 广播 Broadcasting\n",
    "\n",
    "广播是一种强大的机制，它允许 numpy 在执行算术操作时处理不同形状的矩阵。通常我们有一个较小的矩阵和一个较大的矩阵，我们希望多次使用较小的矩阵来对较大的矩阵执行某些操作。\n",
    "\n",
    "举个例子，如果我们想要把一个向量加到矩阵的每一行，我们可以这样做："
   ]
  },
  {
   "cell_type": "code",
   "execution_count": 107,
   "metadata": {},
   "outputs": [
    {
     "name": "stdout",
     "output_type": "stream",
     "text": [
      "[[ 2  2  4]\n",
      " [ 5  5  7]\n",
      " [ 8  8 10]\n",
      " [11 11 13]]\n"
     ]
    }
   ],
   "source": [
    "import numpy as np\n",
    "\n",
    "# 我们将向量 v 添加到矩阵 x 的每一行，\n",
    "# 将结果存储在矩阵 y 中\n",
    "x = np.array([[1,2,3], [4,5,6], [7,8,9], [10, 11, 12]])\n",
    "v = np.array([1, 0, 1])\n",
    "# 创建一个与 x 形状相同的空矩阵\n",
    "y = np.empty_like(x)   \n",
    "\n",
    "# 通过显式循环将向量 v 添加到矩阵 x 的每一行\n",
    "for i in range(4):\n",
    "    y[i, :] = x[i, :] + v\n",
    "    \n",
    "# 以下是 y 的输出\n",
    "# [[ 2  2  4]\n",
    "#  [ 5  5  7]\n",
    "#  [ 8  8 10]\n",
    "#  [11 11 13]]\n",
    "print(y)"
   ]
  },
  {
   "cell_type": "markdown",
   "metadata": {},
   "source": [
    "这样是行得通的，但是当 `x` 矩阵非常大，利用循环来计算就会变得很慢很慢。注意，将向量 `v` 添加到矩阵 `x` 的每一行中，等价于通过垂直叠加 `v` 的多个副本来形成矩阵 `vv`，就像这样："
   ]
  },
  {
   "cell_type": "code",
   "execution_count": 108,
   "metadata": {},
   "outputs": [
    {
     "name": "stdout",
     "output_type": "stream",
     "text": [
      "[[1 0 1]\n",
      " [1 0 1]\n",
      " [1 0 1]\n",
      " [1 0 1]]\n"
     ]
    }
   ],
   "source": [
    "import numpy as np\n",
    "\n",
    "# 我们将向量 v 添加到矩阵 x 的每一行，\n",
    "# 将结果存储在矩阵 y 中\n",
    "x = np.array([[1,2,3], [4,5,6], [7,8,9], [10, 11, 12]])\n",
    "v = np.array([1, 0, 1])\n",
    "# 4 个 v 的副本摞在一起\n",
    "vv = np.tile(v, (4, 1))   \n",
    "# 输出 \"[[1 0 1]\n",
    "#        [1 0 1]\n",
    "#        [1 0 1]\n",
    "#        [1 0 1]]\"\n",
    "print(vv)                    "
   ]
  },
  {
   "cell_type": "code",
   "execution_count": 109,
   "metadata": {},
   "outputs": [
    {
     "name": "stdout",
     "output_type": "stream",
     "text": [
      "[[ 2  2  4]\n",
      " [ 5  5  7]\n",
      " [ 8  8 10]\n",
      " [11 11 13]]\n"
     ]
    }
   ],
   "source": [
    "# 添加 x 和 vv 元素\n",
    "y = x + vv  \n",
    "# 输出 \"[[ 2  2  4\n",
    "#        [ 5  5  7]\n",
    "#        [ 8  8 10]\n",
    "#        [11 11 13]]\"\n",
    "print(y)    "
   ]
  },
  {
   "cell_type": "markdown",
   "metadata": {},
   "source": [
    "Numpy 广播机制可以让我们不用创建 `v`，就能直接运算，看看下面例子："
   ]
  },
  {
   "cell_type": "code",
   "execution_count": 110,
   "metadata": {},
   "outputs": [
    {
     "name": "stdout",
     "output_type": "stream",
     "text": [
      "[[ 2  2  4]\n",
      " [ 5  5  7]\n",
      " [ 8  8 10]\n",
      " [11 11 13]]\n"
     ]
    }
   ],
   "source": [
    "import numpy as np\n",
    "\n",
    "# 我们将向量 v 加到矩阵 x 的每一行，\n",
    "# 将结果存储在矩阵 y 中\n",
    "x = np.array([[1,2,3], [4,5,6], [7,8,9], [10, 11, 12]])\n",
    "v = np.array([1, 0, 1])\n",
    "# 使用广播将 v 加到 x 的每一行\n",
    "y = x + v  \n",
    "# 输出 \"[[ 2  2  4]\n",
    "#        [ 5  5  7]\n",
    "#        [ 8  8 10]\n",
    "#        [11 11 13]]\"\n",
    "print(y)   "
   ]
  },
  {
   "cell_type": "markdown",
   "metadata": {},
   "source": [
    "由于广播机制的存在，`y=x+v` 能工作，即使 `x` 的 `shape` 是 `(4，3)` ，`v` 的 `shape` 是 `(3，)`。"
   ]
  },
  {
   "cell_type": "markdown",
   "metadata": {},
   "source": [
    "对两个数组使用广播机制要遵守下列规则：\n",
    "\n",
    "1. 如果数组的秩（rank）不同，将秩较小的数组进行扩展，直到两个数组的尺寸的长度都一样。\n",
    "2. 如果两个数组在某个维度上的长度是一样的，或者其中一个数组在该维度上长度为1，那么我们就说这两个数组在该维度上是相容的。\n",
    "3. 如果两个数组在所有维度上都是相容的，他们就能使用广播。\n",
    "4. 如果两个输入数组的尺寸不同，那么注意其中较大的那个尺寸。因为广播之后，两个数组的尺寸将和那个较大的尺寸一样。\n",
    "5. 在任何一个维度上，如果一个数组的长度为 1，另一个数组长度大于 1，那么在该维度上，就好像是对第一个数组进行了复制。\n",
    "\n",
    "可以读一读 [文档](http://docs.scipy.org/doc/numpy/user/basics.broadcasting.html) 和这个 [解释](http://wiki.scipy.org/EricsBroadcastingDoc) 深入理解。支持广播机制的函数是全局函数。哪些是全局函数可以 [在文档中查找](http://docs.scipy.org/doc/numpy/reference/ufuncs.html#available-ufuncs)。\n",
    "\n",
    "下面是一些广播机制的应用："
   ]
  },
  {
   "cell_type": "code",
   "execution_count": 111,
   "metadata": {},
   "outputs": [
    {
     "name": "stdout",
     "output_type": "stream",
     "text": [
      "[[ 4  5]\n",
      " [ 8 10]\n",
      " [12 15]]\n"
     ]
    }
   ],
   "source": [
    "import numpy as np\n",
    "\n",
    "# 计算向量的外积\n",
    "v = np.array([1,2,3])  # v 形状 (3,)\n",
    "w = np.array([4,5])    # w 形状 (2,)\n",
    "# 要计算外积，我们首先把 v 重塑为一列\n",
    "# 矢量形状 (3,1);然后我们可以对 w 进行广播\n",
    "# shape(3,2) 的输出，是 v 和 w 的外积:\n",
    "# [[ 4  5]\n",
    "#  [ 8 10]\n",
    "#  [12 15]]\n",
    "print(np.reshape(v, (3, 1)) * w)"
   ]
  },
  {
   "cell_type": "markdown",
   "metadata": {},
   "source": [
    "矩阵重塑机制，如下图：\n",
    "\n",
    "<img src=\"./img/reshape_01.png\" width=\"60%\">"
   ]
  },
  {
   "cell_type": "code",
   "execution_count": 112,
   "metadata": {},
   "outputs": [
    {
     "name": "stdout",
     "output_type": "stream",
     "text": [
      "[[2 4 6]\n",
      " [5 7 9]]\n"
     ]
    }
   ],
   "source": [
    "# 向矩阵的每一行添加一个向量\n",
    "x = np.array([[1,2,3], [4,5,6]])\n",
    "\n",
    "# x 的形状为(2,3),而 v 的形状为(3，)，因此它们广播到(2,3)，\n",
    "# 输出以下矩阵：\n",
    "# [[2 4 6]\n",
    "#  [5 7 9]]\n",
    "print(x + v)"
   ]
  },
  {
   "cell_type": "code",
   "execution_count": 113,
   "metadata": {},
   "outputs": [
    {
     "name": "stdout",
     "output_type": "stream",
     "text": [
      "[[ 5  6  7]\n",
      " [ 9 10 11]]\n"
     ]
    }
   ],
   "source": [
    "# 向矩阵的每一列添加一个向量\n",
    "# x 的形状为（2，3），w 的形状为（2，）。\n",
    "# 如果我们对 x 进行转置，则它的形状为（3，2）并且可以广播\n",
    "# 对 w 产生形状（3，2）的结果; 转置此结果\n",
    "# 产生形状（2，3）的最终结果，即矩阵x\n",
    "# 添加到每一列的向量w。 给出以下矩阵：\n",
    "# [[ 5  6  7]\n",
    "#  [ 9 10 11]]\n",
    "print((x.T + w).T)"
   ]
  },
  {
   "cell_type": "code",
   "execution_count": 114,
   "metadata": {},
   "outputs": [
    {
     "name": "stdout",
     "output_type": "stream",
     "text": [
      "[[ 5  6  7]\n",
      " [ 9 10 11]]\n"
     ]
    }
   ],
   "source": [
    "# 另一个解决方案是将 w 整形为形状为（2，1）的列向量；\n",
    "# 然后我们可以直接针对x广播它以产生相同的输出。\n",
    "print(x + np.reshape(w, (2, 1)))"
   ]
  },
  {
   "cell_type": "code",
   "execution_count": 115,
   "metadata": {},
   "outputs": [
    {
     "name": "stdout",
     "output_type": "stream",
     "text": [
      "[[ 2  4  6]\n",
      " [ 8 10 12]]\n"
     ]
    }
   ],
   "source": [
    "# 将矩阵乘以一个常数：\n",
    "# x的形状为（2，3）。 Numpy将标量视为shape（）的数组；\n",
    "# 这些可以一起广播以成形（2，3），产生以下数组：\n",
    "# [[ 2  4  6]\n",
    "#  [ 8 10 12]]\n",
    "print(x * 2)"
   ]
  },
  {
   "cell_type": "markdown",
   "metadata": {},
   "source": [
    "广播机制能够让你的代码更简洁更迅速，你要多使用它！"
   ]
  },
  {
   "cell_type": "markdown",
   "metadata": {},
   "source": [
    "#### 2.6 Numpy 文档\n",
    "\n",
    "本实验涉及了你需要了解的 numpy 中的一些重要内容，但是 numpy 远不止如此。可以查阅 [numpy 文档](http://docs.scipy.org/doc/numpy/reference/) 来学习更多。另外，当我们将数组应用于深度学习时，一般的命名为：\n",
    "\n",
    "- 标量（scalar）\n",
    "- 向量（vector）\n",
    "- 矩阵（matrix ）\n",
    "- 张量（tensor）\n",
    "\n",
    "<img src=\"./img/scalar-vector-matrix-tensor_01.png\" width=\"60%\">"
   ]
  },
  {
   "cell_type": "markdown",
   "metadata": {},
   "source": [
    "### 3. SciPy\n",
    "\n",
    "Numpy 提供了高性能的多维数组，以及计算和操作数组的基本工具。SciPy 基于 Numpy，提供了大量的计算和操作数组的函数，这些函数对于不同类型的科学和工程计算非常有用。熟悉 [SciPy](http://docs.scipy.org/doc/scipy/reference/) 的最好方法就是 [阅读文档](http://docs.scipy.org/doc/scipy/reference/index.html)。我们会强调对于本课程有用的部分。"
   ]
  },
  {
   "cell_type": "markdown",
   "metadata": {},
   "source": [
    "#### 3.1 图像操作\n",
    "\n",
    "SciPy 提供了一些操作图像的基本函数。比如，它提供了将图像从硬盘读入到 numpy 数组的函数，也提供了将 numpy 数组中数据写入的硬盘成为图像的函数。\n",
    "\n",
    "下面是一个简单的例子："
   ]
  },
  {
   "cell_type": "code",
   "execution_count": 116,
   "metadata": {},
   "outputs": [],
   "source": [
    "import os\n",
    "base_path = os.environ.get(\"BATH_PATH\",'./data/')\n",
    "data_path = os.path.join(base_path + \"lab1/\")\n",
    "result_path = \"result/\"\n",
    "os.makedirs(result_path, exist_ok=True)"
   ]
  },
  {
   "cell_type": "code",
   "execution_count": 117,
   "metadata": {},
   "outputs": [
    {
     "name": "stdout",
     "output_type": "stream",
     "text": [
      "uint8 (225, 300, 3)\n",
      "float64 (225, 300, 3)\n",
      "uint8 (300, 300, 3)\n"
     ]
    }
   ],
   "source": [
    "import numpy as np\n",
    "from imageio import imread, imwrite\n",
    "from skimage.transform import resize\n",
    "import matplotlib.pyplot as plt\n",
    "\n",
    "# 将 JPEG 图像读取到 numpy 数组中\n",
    "img = imread(data_path+'cat.jpg')\n",
    "# 输出 \"uint8 (400, 248, 3)\"\n",
    "print(img.dtype, img.shape)  \n",
    "\n",
    "# 我们可以通过缩放每个颜色通道来为图像着色\n",
    "# 由不同的标量常数组成。 图像的形状为（400，248，3）;\n",
    "# 我们将其乘以形状（3，）的数组 [1，0.95，0.9]；\n",
    "# numpy 广播意味着这将使红色频道保持不变，\n",
    "# 并将绿色和蓝色通道分别乘以 0.95 和 0.9\n",
    "\n",
    "img_tinted = (img * [1, 0.95, 0.9])\n",
    "# 输出 \"float64 (400, 248, 3)\"\n",
    "print(img_tinted.dtype, img_tinted.shape)  \n",
    "\n",
    "# 将着色图像的大小调整为300 x 300像素\n",
    "img_tinted = resize(img_tinted, (300, 300)).astype(dtype=np.uint8)\n",
    "# 输出 \"uint8 (300, 248, 3)\"\n",
    "print(img_tinted.dtype, img_tinted.shape)  \n",
    "\n",
    "# 将调整大小后的图像写回到磁盘\n",
    "imwrite(result_path+'cat_tinted.jpg', img_tinted)"
   ]
  },
  {
   "cell_type": "code",
   "execution_count": 118,
   "metadata": {},
   "outputs": [
    {
     "data": {
      "image/png": "[encoded data removed]",
      "text/plain": [
       "<Figure size 432x288 with 1 Axes>"
      ]
     },
     "metadata": {
      "needs_background": "light"
     },
     "output_type": "display_data"
    }
   ],
   "source": [
    "# 显示原始图像\n",
    "plt.imshow(img)\n",
    "plt.show()"
   ]
  },
  {
   "cell_type": "code",
   "execution_count": 119,
   "metadata": {},
   "outputs": [
    {
     "data": {
      "image/png": "[encoded data removed]",
      "text/plain": [
       "<Figure size 432x288 with 1 Axes>"
      ]
     },
     "metadata": {
      "needs_background": "light"
     },
     "output_type": "display_data"
    }
   ],
   "source": [
    "# 显示调整大小后的图像\n",
    "plt.imshow(img_tinted)\n",
    "plt.show()"
   ]
  },
  {
   "cell_type": "markdown",
   "metadata": {},
   "source": [
    "#### 3.2 MATLAB 文件\n",
    "\n",
    "函数 `scipy.io.loadmat` 和 `scipy.io.savemat` 能够让你读和写 MATLAB 文件。具体请 [查看文档](http://docs.scipy.org/doc/scipy/reference/io.html)。"
   ]
  },
  {
   "cell_type": "markdown",
   "metadata": {},
   "source": [
    "#### 3.3 点之间的距离\n",
    "\n",
    "SciPy 定义了一些有用的函数用于计算集合中点之间的距离。\n",
    "\n",
    "函数 `scipy.spatial.distance.pdist` 能够计算集合中全部两点对之间的距离："
   ]
  },
  {
   "cell_type": "code",
   "execution_count": 120,
   "metadata": {},
   "outputs": [
    {
     "name": "stdout",
     "output_type": "stream",
     "text": [
      "[[0 1]\n",
      " [1 0]\n",
      " [2 0]]\n"
     ]
    }
   ],
   "source": [
    "import numpy as np\n",
    "from scipy.spatial.distance import pdist, squareform\n",
    "\n",
    "# 创建以下数组，其中每一行都是 2D 空间中的一个点：\n",
    "# [[0 1]\n",
    "#  [1 0]\n",
    "#  [2 0]]\n",
    "x = np.array([[0, 1], [1, 0], [2, 0]])\n",
    "print(x)"
   ]
  },
  {
   "cell_type": "code",
   "execution_count": 121,
   "metadata": {},
   "outputs": [
    {
     "name": "stdout",
     "output_type": "stream",
     "text": [
      "[[0.         1.41421356 2.23606798]\n",
      " [1.41421356 0.         1.        ]\n",
      " [2.23606798 1.         0.        ]]\n"
     ]
    }
   ],
   "source": [
    "# 计算 x 的所有行之间的欧几里得距离。\n",
    "# d [i，j] 是 x [i，：] 和 x [j，：] 之间的欧几里得距离\n",
    "# 和 d 是以下数组：\n",
    "# [[ 0.          1.41421356  2.23606798]\n",
    "#  [ 1.41421356  0.          1.        ]\n",
    "#  [ 2.23606798  1.          0.        ]]\n",
    "d = squareform(pdist(x, 'euclidean'))\n",
    "print(d)"
   ]
  },
  {
   "cell_type": "markdown",
   "metadata": {},
   "source": [
    "了解更多细节，[阅读文档](http://docs.scipy.org/doc/scipy/reference/generated/scipy.spatial.distance.pdist.html)。\n",
    "\n",
    "函数 `scipy.spatial.distance.cdist` 可以计算不同集合中点之间的距离，具体请[查看文档](http://docs.scipy.org/doc/scipy/reference/generated/scipy.spatial.distance.cdist.html)。"
   ]
  },
  {
   "cell_type": "markdown",
   "metadata": {},
   "source": [
    "### 4. Matplotlib\n",
    "\n",
    "[Matplotlib](http://matplotlib.org/) 是一个作图库。这里简要介绍 `matplotlib.pyplot` 模块，功能和 MATLAB 的作图功能类似。"
   ]
  },
  {
   "cell_type": "markdown",
   "metadata": {},
   "source": [
    "#### 4.1 绘图 Plotting\n",
    "\n",
    "matplotlib 库中最重要的函数是 `plot`。该函数允许你做出 2D 图形，如下 ——\n",
    "\n",
    "注：一般我们在 Jupyter Notebook 中运行代码时，会加入 `%matplotlib inline` 魔法指令，使 Matplotlib 图形直接在 Jupyter Notebook 中显示。"
   ]
  },
  {
   "cell_type": "code",
   "execution_count": 122,
   "metadata": {},
   "outputs": [
    {
     "data": {
      "image/png": "[encoded data removed]",
      "text/plain": [
       "<Figure size 432x288 with 1 Axes>"
      ]
     },
     "metadata": {
      "needs_background": "light"
     },
     "output_type": "display_data"
    }
   ],
   "source": [
    "import numpy as np\n",
    "import matplotlib.pyplot as plt\n",
    "\n",
    "# 魔法指令，使 Matplotlib 图形直接在 Jupyter Notebook 中显示\n",
    "%matplotlib inline\n",
    "\n",
    "# 计算正弦曲线上的点的 x 和 y 坐标\n",
    "x = np.arange(0, 3 * np.pi, 0.1)\n",
    "y = np.sin(x)\n",
    "\n",
    "# 使用 matplotlib 绘制点\n",
    "plt.plot(x, y)\n",
    "# 你必须调用 plt.show() 才能显示图形\n",
    "plt.show()    "
   ]
  },
  {
   "cell_type": "markdown",
   "metadata": {},
   "source": [
    "只需要一点额外的工作，我们就可以轻松地同时绘制多行，并添加标题、图例和轴标签:"
   ]
  },
  {
   "cell_type": "code",
   "execution_count": 123,
   "metadata": {},
   "outputs": [
    {
     "data": {
      "image/png": "[encoded data removed]",
      "text/plain": [
       "<Figure size 432x288 with 1 Axes>"
      ]
     },
     "metadata": {
      "needs_background": "light"
     },
     "output_type": "display_data"
    }
   ],
   "source": [
    "import numpy as np\n",
    "import matplotlib.pyplot as plt\n",
    "\n",
    "# 计算正弦和余弦曲线上的点的 x 和 y 坐标\n",
    "x = np.arange(0, 3 * np.pi, 0.1)\n",
    "y_sin = np.sin(x)\n",
    "y_cos = np.cos(x)\n",
    "\n",
    "# 使用 matplotlib 绘制点\n",
    "plt.plot(x, y_sin)\n",
    "plt.plot(x, y_cos)\n",
    "plt.xlabel('x axis label')\n",
    "plt.ylabel('y axis label')\n",
    "plt.title('Sine and Cosine')\n",
    "plt.legend(['Sine', 'Cosine'])\n",
    "# 你必须调用 plt.show() 才能显示图形\n",
    "plt.show()                     "
   ]
  },
  {
   "cell_type": "markdown",
   "metadata": {},
   "source": [
    "您可以 [阅读文档](http://matplotlib.org/api/pyplot_api.html#matplotlib.pyplot.plot)，获得有关 `plot` 函数的更多信息。"
   ]
  },
  {
   "cell_type": "markdown",
   "metadata": {},
   "source": [
    "#### 4.2 绘制多个图形 Subplots\n",
    "\n",
    "可以使用 `subplot` 函数来在一幅图中画不同的图形："
   ]
  },
  {
   "cell_type": "code",
   "execution_count": 124,
   "metadata": {},
   "outputs": [
    {
     "data": {
      "image/png": "[encoded data removed]",
      "text/plain": [
       "<Figure size 432x288 with 2 Axes>"
      ]
     },
     "metadata": {
      "needs_background": "light"
     },
     "output_type": "display_data"
    }
   ],
   "source": [
    "import numpy as np\n",
    "import matplotlib.pyplot as plt\n",
    "\n",
    "# 计算正弦和余弦曲线上的点的 x 和 y 坐标\n",
    "x = np.arange(0, 3 * np.pi, 0.1)\n",
    "y_sin = np.sin(x)\n",
    "y_cos = np.cos(x)\n",
    "\n",
    "# 设置高度为 2 且宽度为 1 的子图网格\n",
    "# 并将第一个这样的子图设置为 active\n",
    "plt.subplot(2, 1, 1)\n",
    "\n",
    "# 绘制第一个图形\n",
    "plt.plot(x, y_sin)\n",
    "plt.title('Sine')\n",
    "\n",
    "# 将第二个子图设置为活动状态，并绘制第二个图形\n",
    "plt.subplot(2, 1, 2)\n",
    "plt.plot(x, y_cos)\n",
    "plt.title('Cosine')\n",
    "\n",
    "# 显示图形\n",
    "plt.show()"
   ]
  },
  {
   "cell_type": "markdown",
   "metadata": {},
   "source": [
    "了解更多关于 `subplot` 函数的用法，[阅读文档](http://matplotlib.org/api/pyplot_api.html#matplotlib.pyplot.subplot)。"
   ]
  },
  {
   "cell_type": "markdown",
   "metadata": {},
   "source": [
    "#### 4.3 图像 Images\n",
    "\n",
    "我们可以使用 `imshow` 函数来显示图像，如下所示："
   ]
  },
  {
   "cell_type": "code",
   "execution_count": 125,
   "metadata": {},
   "outputs": [
    {
     "data": {
      "image/png": "[encoded data removed]",
      "text/plain": [
       "<Figure size 432x288 with 2 Axes>"
      ]
     },
     "metadata": {
      "needs_background": "light"
     },
     "output_type": "display_data"
    }
   ],
   "source": [
    "import numpy as np\n",
    "from imageio import imread\n",
    "import matplotlib.pyplot as plt\n",
    "%matplotlib inline\n",
    "\n",
    "img = imread(data_path+'cat.jpg')\n",
    "img_tinted = img * [1, 0.95, 0.9]\n",
    "\n",
    "# 显示原始图片\n",
    "plt.subplot(1, 2, 1)\n",
    "plt.imshow(img)\n",
    "\n",
    "# 显示调整后的图片\n",
    "plt.subplot(1, 2, 2)\n",
    "\n",
    "# imshow 的一个小问题是它可能会产生奇怪的结果\n",
    "# 如果显示的不是 uint8 的数据。 为了解决这个问题\n",
    "# 我们在显示图像之前，将图像显式转换为 uint8\n",
    "plt.imshow(np.uint8(img_tinted))\n",
    "plt.show()"
   ]
  },
  {
   "cell_type": "markdown",
   "metadata": {},
   "source": [
    "### 实验小结\n",
    "\n",
    "在本实验中，我们快速回顾了 Python 在深度学习应用中所需要的常用库以及每个库中的核心概念及函数。由于篇幅所限，我们不可能将所有相关信息全部列出，请在课后查阅实验手册中的链接，通过最为标准的官方文档，进一步了解各个数据科学库的信息及相关函数的详细用法，这是作为一名机器学习工程师的基础能力。"
   ]
  }
 ],
 "metadata": {
  "kernelspec": {
   "display_name": "Python 3",
   "language": "python",
   "name": "python3"
  },
  "language_info": {
   "codemirror_mode": {
    "name": "ipython",
    "version": 3
   },
   "file_extension": ".py",
   "mimetype": "text/x-python",
   "name": "python",
   "nbconvert_exporter": "python",
   "pygments_lexer": "ipython3",
   "version": "3.6.9"
  },
  "toc": {
   "base_numbering": 1,
   "nav_menu": {},
   "number_sections": true,
   "sideBar": true,
   "skip_h1_title": false,
   "title_cell": "Table of Contents",
   "title_sidebar": "Contents",
   "toc_cell": false,
   "toc_position": {
    "height": "calc(100% - 180px)",
    "left": "10px",
    "top": "150px",
    "width": "279.2px"
   },
   "toc_section_display": true,
   "toc_window_display": false
  }
 },
 "nbformat": 4,
 "nbformat_minor": 2
}
