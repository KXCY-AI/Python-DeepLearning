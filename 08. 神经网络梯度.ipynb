{
 "cells": [
  {
   "cell_type": "markdown",
   "metadata": {},
   "source": [
    "## 实验：神经网络梯度（Gradient）"
   ]
  },
  {
   "cell_type": "markdown",
   "metadata": {},
   "source": [
    "### 实验概要\n",
    "\n",
    "#### 梯度的作用\n",
    "\n",
    "在神经网络中，梯度的作用就是，在反向传播过程中，最佳的降低残差（Loss），更好的实现权重、偏置量参数的更新 **（w,b）**。\n",
    "\n",
    "> 反向传播（英語：**Backpropagation**，缩写为 **BP**）是『误差反向传播』的简称，是一种与最优化方法（如梯度下降法）结合使用的，用来训练人工神经网络的常见方法。该方法对网络中所有权重计算损失函数的梯度。这个梯度会反馈给最优化方法，用来更新权值以最小化损失函数。—— 我们将在后面的章节中详细介绍。\n",
    "\n",
    "#### 梯度下降假设场景\n",
    "\n",
    "<img src=\"./img/0_bSErxcaiPqMiIXdu_08.jpg\" width=\"50%\">\n",
    "\n",
    "首先，我们有一个可微分的函数。这个函数就代表着一座山。我们的目标就是找到这个函数的最小值，也就是山底。那么最快下山的方式就是找到当前位置最陡峭的方向，然后沿着此方向向下走，对应到函数中，就是找到给定点的梯度，然后朝着梯度相反的方向，就能让函数值下降的最快！通过反复利用这个方法，不断求梯度，最后达到据部最小值。这就类似于我们下山的过程。而求取梯度就确定了最陡峭的方向，也就是场景中测量方向的手段。\n",
    "\n",
    "<img src=\"./img/3_08.png\" width=\"60%\">\n",
    "\n",
    "那么为什么梯度的方向就是最陡峭的方向呢？接下来，我们从微分开始讲起 ——\n",
    "\n",
    "##### 微分\n",
    "\n",
    "看待微分的意义，可以有不同的角度，最常用的两种是：\n",
    "\n",
    "- 函数图像中，某点的切线的斜率\n",
    "- 函数的变化率\n",
    "\n",
    "以下为几个微分的例子：\n",
    "\n",
    "$$\n",
    "\\begin{array}{l}\n",
    "\\frac{d\\left(x^{2}\\right)}{d x}=2 x \\\\\n",
    "\\frac{d\\left(-2 y^{5}\\right)}{d y}=-10 y^{4} \\\\\n",
    "\\frac{d(5-\\theta)^{2}}{d \\theta}=-2(5-\\theta)\n",
    "\\end{array}\n",
    "$$\n",
    "\n",
    "上面的例子都是单变量的微分，当一个函数有多个变量的时候，就有了多变量的微分，即分别对每个变量进行求微分：\n",
    "\n",
    "$$\n",
    "\\begin{array}{l}\n",
    "\\frac{\\partial}{\\partial x}\\left(x^{2} y^{2}\\right)=2 x y^{2} \\\\\n",
    "\\frac{\\partial}{\\partial y}\\left(-2 y^{5}+z^{2}\\right)=-10 y^{4} \\\\\n",
    "\\frac{\\partial}{\\partial \\theta_{2}}\\left(5 \\theta_{1}+2 \\theta_{2}-12 \\theta_{3}\\right)=2 \\\\\n",
    "\\frac{\\partial}{\\partial \\theta_{2}}\\left(0.55-\\left(5 \\theta_{1}+2 \\theta_{2}-12 \\theta_{3}\\right)\\right)=-2\n",
    "\\end{array}\n",
    "$$\n",
    "\n",
    "##### 梯度\n",
    "\n",
    "梯度实际上就是多变量微分的一般化。下面这个例子：\n",
    "\n",
    "$$\n",
    "\\begin{aligned}\n",
    "J(\\Theta) &=0.55-\\left(5 \\theta_{1}+2 \\theta_{2}-12 \\theta_{3}\\right) \\\\\n",
    "\\nabla J(\\Theta) &=\\left\\langle\\frac{\\partial J}{\\partial \\theta_{1}}, \\frac{\\partial J}{\\partial \\theta_{2}}, \\frac{\\partial J}{\\partial \\theta_{3}}\\right\\rangle \\\\\n",
    "&=\\langle-5,-2,12\\rangle\n",
    "\\end{aligned}\n",
    "$$\n",
    "\n",
    "我们可以看到，梯度就是分别对每个变量进行微分，然后用逗号分割开，梯度是用<>包括起来，说明梯度其实一个向量。\n",
    "\n",
    "梯度是微积分中一个很重要的概念，之前提到过梯度的意义\n",
    "\n",
    "- 在单变量的函数中，梯度其实就是函数的微分，代表着函数在某个给定点的切线的斜率\n",
    "- 在多变量函数中，梯度是一个向量，向量有方向，梯度的方向就指出了函数在给定点的上升最快的方向\n",
    "\n",
    "这也就说明了为什么我们需要千方百计的求取梯度！我们需要到达山底，就需要在每一步观测到此时最陡峭的地方，梯度就恰巧告诉了我们这个方向。梯度的方向是函数在给定点上升最快的方向，那么梯度的反方向就是函数在给定点下降最快的方向，这正是我们所需要的。所以我们只要沿着梯度的方向一直走，就能走到局部的最低点！\n",
    "\n",
    "#### 梯度下降法的数学解释\n",
    "\n",
    "梯度下降法的最重要公式如下：\n",
    "$$\\theta^1=\\theta^0-\\alpha\\nabla J(\\theta)$$\n",
    "\n",
    "<img src=\"./img/2_08.png\" width=\"50%\">\n",
    "\n",
    "此公式的意义是：**J** 是关于 $\\theta$ 的一个函数，我们当前所处的位置为 $\\theta$**0** 点，要从这个点走到 **J** 的最小值点，也就是山底。首先我们先确定前进的方向，也就是梯度的反向，然后走一段距离的步长，也就是 $\\alpha$，走完这个段步长，就到达了 $\\theta$**1** 这个点！$\\alpha$ 在梯度下降算法中被称作为学习率 (**Learning Rate**) 或者步长，意味着我们可以通过 $\\alpha$ 来控制每一步走的距离，$\\alpha$ 太小，下山太慢，$\\alpha$ 太大，则可能错过局部最低点。\n",
    "\n",
    "<img src=\"./img/4_08.png\" width=\"70%\">"
   ]
  },
  {
   "cell_type": "markdown",
   "metadata": {},
   "source": [
    "### 实验目标\n",
    "\n",
    "在本实验中，我们通过 Python 实现梯度下降法，另外我们将通过 mini-batch 梯度下降实现更为高效的线性回归模型收敛。"
   ]
  },
  {
   "cell_type": "markdown",
   "metadata": {},
   "source": [
    "### 1. 定义数据点显示函数\n",
    "\n",
    "在本实验中，我们通过训练一个函数，将红色（标签为 `1`）与蓝色数据点（标签为 `0`）区分开来。"
   ]
  },
  {
   "cell_type": "code",
   "execution_count": 1,
   "metadata": {},
   "outputs": [],
   "source": [
    "# 导入matplotlib绘图库\n",
    "import matplotlib.pyplot as plt \n",
    "# 导入numpy科学计算库\n",
    "import numpy as np              \n",
    "# 导入pandas数据处理库\n",
    "import pandas as pd             \n",
    "%matplotlib inline\n",
    "\n",
    "# 定义数据点创建函数\n",
    "def plot_points(X, y):\n",
    "    \n",
    "    # 标签为1的数据点设置为红色（red）\n",
    "    admitted = X[np.argwhere(y==1)]\n",
    "    plt.scatter([s[0][0] for s in admitted], [s[0][1] for s in admitted], \n",
    "                s = 25, color = 'red', edgecolor = 'k')\n",
    "    \n",
    "    # 标签为1的数据点设置为蓝色（blue）\n",
    "    rejected = X[np.argwhere(y==0)]\n",
    "    plt.scatter([s[0][0] for s in rejected], [s[0][1] for s in rejected], \n",
    "                s = 25, color = 'blue', edgecolor = 'k')\n",
    "\n",
    "# 定义显示函数    \n",
    "def display(m, b, color='g--'):\n",
    "    plt.xlim(-0.05,1.05)\n",
    "    plt.ylim(-0.05,1.05)\n",
    "    x = np.arange(-10, 10, 0.1)\n",
    "    plt.plot(x, m*x+b, color)"
   ]
  },
  {
   "cell_type": "markdown",
   "metadata": {},
   "source": [
    "### 2. 创建和显示数据\n",
    "\n",
    "导入本地数据，根据数据点创建函数，显示不同标签数据样本的颜色。"
   ]
  },
  {
   "cell_type": "code",
   "execution_count": 2,
   "metadata": {},
   "outputs": [
    {
     "data": {
      "text/html": [
       "<div>\n",
       "<style scoped>\n",
       "    .dataframe tbody tr th:only-of-type {\n",
       "        vertical-align: middle;\n",
       "    }\n",
       "\n",
       "    .dataframe tbody tr th {\n",
       "        vertical-align: top;\n",
       "    }\n",
       "\n",
       "    .dataframe thead th {\n",
       "        text-align: right;\n",
       "    }\n",
       "</style>\n",
       "<table border=\"1\" class=\"dataframe\">\n",
       "  <thead>\n",
       "    <tr style=\"text-align: right;\">\n",
       "      <th></th>\n",
       "      <th>0</th>\n",
       "      <th>1</th>\n",
       "      <th>2</th>\n",
       "    </tr>\n",
       "  </thead>\n",
       "  <tbody>\n",
       "    <tr>\n",
       "      <th>0</th>\n",
       "      <td>0.78051</td>\n",
       "      <td>-0.063669</td>\n",
       "      <td>1</td>\n",
       "    </tr>\n",
       "    <tr>\n",
       "      <th>1</th>\n",
       "      <td>0.28774</td>\n",
       "      <td>0.291390</td>\n",
       "      <td>1</td>\n",
       "    </tr>\n",
       "    <tr>\n",
       "      <th>2</th>\n",
       "      <td>0.40714</td>\n",
       "      <td>0.178780</td>\n",
       "      <td>1</td>\n",
       "    </tr>\n",
       "    <tr>\n",
       "      <th>3</th>\n",
       "      <td>0.29230</td>\n",
       "      <td>0.421700</td>\n",
       "      <td>1</td>\n",
       "    </tr>\n",
       "    <tr>\n",
       "      <th>4</th>\n",
       "      <td>0.50922</td>\n",
       "      <td>0.352560</td>\n",
       "      <td>1</td>\n",
       "    </tr>\n",
       "  </tbody>\n",
       "</table>\n",
       "</div>"
      ],
      "text/plain": [
       "         0         1  2\n",
       "0  0.78051 -0.063669  1\n",
       "1  0.28774  0.291390  1\n",
       "2  0.40714  0.178780  1\n",
       "3  0.29230  0.421700  1\n",
       "4  0.50922  0.352560  1"
      ]
     },
     "execution_count": 2,
     "metadata": {},
     "output_type": "execute_result"
    }
   ],
   "source": [
    "import os\n",
    "base_path = os.environ.get(\"BATH_PATH\",'./data/')\n",
    "data_path = os.path.join(base_path + \"lab8/\")\n",
    "result_path = \"result/\"\n",
    "os.makedirs(result_path, exist_ok=True)\n",
    "\n",
    "# 导入本地数据\n",
    "data = pd.read_csv(data_path+'data.csv', header=None) \n",
    "# 显示数据前五行\n",
    "data.head()                                         "
   ]
  },
  {
   "cell_type": "markdown",
   "metadata": {},
   "source": [
    "从上表可知，其中第一第二列（[0, 1]）为数据列，第三列（[2]）为标签列。绘制数据分布散点图，数据列分别为 X,Y 轴，标签列使用颜色区分："
   ]
  },
  {
   "cell_type": "code",
   "execution_count": 3,
   "metadata": {},
   "outputs": [
    {
     "data": {
      "image/png": "[encoded data removed]",
      "text/plain": [
       "<Figure size 432x288 with 1 Axes>"
      ]
     },
     "metadata": {
      "needs_background": "light"
     },
     "output_type": "display_data"
    }
   ],
   "source": [
    "X = np.array(data[[0,1]])\n",
    "y = np.array(data[2])\n",
    "\n",
    "# 引用数据点创建函数\n",
    "plot_points(X,y)\n",
    "plt.show()"
   ]
  },
  {
   "cell_type": "markdown",
   "metadata": {},
   "source": [
    "### 3. 基本函数实现\n",
    "\n",
    "定义以下激活函数 ——\n",
    "\n",
    "- Sigmoid 激活函数\n",
    "\n",
    "$$\\sigma(x) = \\frac{1}{1+e^{-x}}$$\n",
    "\n",
    "- 输出\n",
    "\n",
    "$$\\hat{y} = \\sigma(w_1 x_1 + w_2 x_2 + b)$$\n",
    "\n",
    "- 误差函数\n",
    "\n",
    "$$Error(y, \\hat{y}) = - y \\log(\\hat{y}) - (1-y) \\log(1-\\hat{y})$$\n",
    "\n",
    "- 权重更新\n",
    "\n",
    "$$ w_i \\longrightarrow w_i + \\alpha (y - \\hat{y}) x_i$$\n",
    "\n",
    "$$ b \\longrightarrow b + \\alpha (y - \\hat{y})$$"
   ]
  },
  {
   "cell_type": "code",
   "execution_count": 4,
   "metadata": {},
   "outputs": [],
   "source": [
    "# 激活函数\n",
    "def sigmoid(x):\n",
    "    return 1 / (1 + np.exp(-x))\n",
    "\n",
    "# 输出函数\n",
    "def output_formula(features, weights, bias):\n",
    "    return sigmoid(np.dot(features, weights) + bias)\n",
    "\n",
    "# 误差函数\n",
    "def error_formula(y, output):\n",
    "    return - y*np.log(output) - (1 - y) * np.log(1-output)\n",
    "\n",
    "# 权重更新\n",
    "def update_weights(x, y, weights, bias, learnrate):\n",
    "    output = output_formula(x, weights, bias)\n",
    "    d_error = -(y - output)\n",
    "    weights -= learnrate * d_error * x\n",
    "    bias -= learnrate * d_error\n",
    "    return weights, bias"
   ]
  },
  {
   "cell_type": "markdown",
   "metadata": {},
   "source": [
    "### 4. 批量梯度下降\n",
    "\n",
    "定义训练函数 `train()` 该训练函数将帮助我们通过所有数据来迭代梯度下降算法，用于多个 Epoch。它还将绘制数据，以及在我们运行算法时绘制出一些边界线。这种方式称为 **批量梯度下降**：在计算相对于整个训练集的误差梯度之后，更新参数，进入下一个 Epoch。由于在沿梯度方向迈出一步之前要考虑整个训练数据，因此进行单个更新会花费大量时间。而起好处在于可以平滑更新模型参数。"
   ]
  },
  {
   "cell_type": "code",
   "execution_count": 5,
   "metadata": {},
   "outputs": [
    {
     "name": "stdout",
     "output_type": "stream",
     "text": [
      "\n",
      "========== Epoch 0 ==========\n",
      "Train loss:  0.7135845195381634\n",
      "Accuracy:  0.4\n",
      "\n",
      "========== Epoch 10 ==========\n",
      "Train loss:  0.6225835210454962\n",
      "Accuracy:  0.59\n",
      "\n",
      "========== Epoch 20 ==========\n",
      "Train loss:  0.5548744083669508\n",
      "Accuracy:  0.74\n",
      "\n",
      "========== Epoch 30 ==========\n",
      "Train loss:  0.501606141872473\n",
      "Accuracy:  0.84\n",
      "\n",
      "========== Epoch 40 ==========\n",
      "Train loss:  0.4593334641861401\n",
      "Accuracy:  0.86\n",
      "\n",
      "========== Epoch 50 ==========\n",
      "Train loss:  0.42525543433469987\n",
      "Accuracy:  0.93\n",
      "\n",
      "========== Epoch 60 ==========\n",
      "Train loss:  0.3973461571671399\n",
      "Accuracy:  0.93\n",
      "\n",
      "========== Epoch 70 ==========\n",
      "Train loss:  0.3741469765239074\n",
      "Accuracy:  0.93\n",
      "\n",
      "========== Epoch 80 ==========\n",
      "Train loss:  0.35459973368161973\n",
      "Accuracy:  0.94\n",
      "\n",
      "========== Epoch 90 ==========\n",
      "Train loss:  0.3379273658879921\n",
      "Accuracy:  0.94\n"
     ]
    },
    {
     "data": {
      "image/png": "[encoded data removed]",
      "text/plain": [
       "<Figure size 432x288 with 1 Axes>"
      ]
     },
     "metadata": {
      "needs_background": "light"
     },
     "output_type": "display_data"
    },
    {
     "data": {
      "image/png": "[encoded data removed]",
      "text/plain": [
       "<Figure size 432x288 with 1 Axes>"
      ]
     },
     "metadata": {
      "needs_background": "light"
     },
     "output_type": "display_data"
    }
   ],
   "source": [
    "np.random.seed(44)\n",
    "\n",
    "# 定义训练批次为100次\n",
    "epochs = 100     \n",
    "# 定义学习率为0.01\n",
    "learnrate = 0.01 \n",
    "\n",
    "def train(features, targets, epochs, learnrate, graph_lines=False):\n",
    "    \n",
    "    errors = []\n",
    "    n_records, n_features = features.shape\n",
    "    last_loss = None\n",
    "    weights = np.random.normal(scale=1 / n_features**.5, size=n_features)\n",
    "    bias = 0\n",
    "    for e in range(epochs):\n",
    "        del_w = np.zeros(weights.shape)\n",
    "        for x, y in zip(features, targets):\n",
    "            output = output_formula(x, weights, bias)\n",
    "            error = error_formula(y, output)\n",
    "            weights, bias = update_weights(x, y, weights, bias, learnrate)\n",
    "\n",
    "        # 在训练集上输出对数损失误差\n",
    "        out = output_formula(features, weights, bias)\n",
    "        loss = np.mean(error_formula(targets, out))\n",
    "        errors.append(loss)\n",
    "        \n",
    "        # 每训练10个批次显示一次统计\n",
    "        if e % (epochs / 10) == 0:\n",
    "            print(\"\\n========== Epoch\", e,\"==========\")\n",
    "            if last_loss and last_loss < loss:\n",
    "                print(\"Train loss: \", loss, \"  WARNING - Loss Increasing\")\n",
    "            else:\n",
    "                print(\"Train loss: \", loss)\n",
    "            last_loss = loss\n",
    "            predictions = out > 0.5\n",
    "            accuracy = np.mean(predictions == targets)\n",
    "            print(\"Accuracy: \", accuracy)\n",
    "        if graph_lines and e % (epochs / 100) == 0:\n",
    "            display(-weights[0]/weights[1], -bias/weights[1])\n",
    "  \n",
    "    # 绘制分类边界\n",
    "    plt.title(\"Solution boundary\")\n",
    "    display(-weights[0]/weights[1], -bias/weights[1], 'black')\n",
    "\n",
    "    # 绘制数据\n",
    "    plot_points(features, targets)\n",
    "    plt.show()\n",
    "\n",
    "    # 绘制误差\n",
    "    plt.title(\"Error Plot\")\n",
    "    plt.xlabel('Number of epochs')\n",
    "    plt.ylabel('Error')\n",
    "    plt.plot(errors)\n",
    "    plt.show()\n",
    "    \n",
    "train(X, y, epochs, learnrate)"
   ]
  },
  {
   "cell_type": "markdown",
   "metadata": {},
   "source": [
    "### 5. mini-batch 梯度下降\n",
    "\n",
    "机器学习使用训练数据进行学习。使用训练数据进行学习，严格来说，就是针对训练数据计算损失函数的值，找出使该值尽可能小的参数。因此，计算损失函数时必须将所有的训练数据作为对象。也就是说，如果训练数据有 100 个的话，我们就要把这 100 个损失函数的总和作为学习的指标。\n",
    "\n",
    "然而，譬如 MNIST 数据集的训练数据有 60000 个，如果以全部数据为对象求损失函数的和，则计算过程需要花费较长的时间。再者，如果遇到大数据，数据量会有几百万、几千万之多，这种情况下以全部数据为对象计算损失函数是不现实的。因此，我们从全部数据中选出一部分，作为全部数据的“近似”。神经网络的学习也是从训练数据中选出一批数据（称为 **mini-batch**，小批量），然后对每个 **mini-batch** 进行学习。比如，从 60000 个训练数据中随机选择 100 笔，再用这 100 笔数据进行学习。这种学习方式称为 **mini-batch 学习**。\n",
    "\n",
    "另外，在上面的 **批次梯度下降** 中，我们可以看到每次梯度更新会花费大量的时间。**mini-batch** 梯度下降，则在计算相对于训练集的子集的误差梯度之后，更新参数。由于只考虑训练集的子集，因此它可以快速更新模型参数。因此，**mini-batch** 梯度下降在快速收敛和与梯度更新相关的噪声之间做出了折衷，这使其成为一种更加灵活和健壮的算法。"
   ]
  },
  {
   "cell_type": "markdown",
   "metadata": {},
   "source": [
    "#### 5.1 生成测试数据\n",
    "\n",
    "导入依赖库，生成用于线性回归的数据并可视化生成的数据。我们生成了 8000 个数据示例，每个示例都有 2 个特征。这些数据示例进一步分为分别具有 7200 和 800 个样本的训练集（X_train，y_train）和测试集（X_test，y_test）。"
   ]
  },
  {
   "cell_type": "code",
   "execution_count": 6,
   "metadata": {},
   "outputs": [
    {
     "data": {
      "image/png": "[encoded data removed]",
      "text/plain": [
       "<Figure size 432x288 with 1 Axes>"
      ]
     },
     "metadata": {
      "needs_background": "light"
     },
     "output_type": "display_data"
    },
    {
     "name": "stdout",
     "output_type": "stream",
     "text": [
      "训练集样本数 =  7200\n",
      "测试集样本数 =  800\n"
     ]
    }
   ],
   "source": [
    "# 导入依赖库\n",
    "import numpy as np\n",
    "import matplotlib.pyplot as plt\n",
    "  \n",
    "# 创建测试数据\n",
    "mean = np.array([5.0, 6.0])\n",
    "cov = np.array([[1.0, 0.95], [0.95, 1.2]])\n",
    "# 从多元正态分布中抽取随机样本\n",
    "data = np.random.multivariate_normal(mean, cov, 8000) \n",
    "  \n",
    "# 可视化数据\n",
    "plt.scatter(data[:500, 0], data[:500, 1], marker = '.')\n",
    "plt.show()\n",
    "  \n",
    "# 分割训练集测试集\n",
    "data = np.hstack((np.ones((data.shape[0], 1)), data))\n",
    "  \n",
    "split_factor = 0.90\n",
    "split = int(split_factor * data.shape[0])\n",
    "  \n",
    "X_train = data[:split, :-1]\n",
    "y_train = data[:split, -1].reshape((-1, 1))\n",
    "X_test = data[split:, :-1]\n",
    "y_test = data[split:, -1].reshape((-1, 1))\n",
    "  \n",
    "print(\"训练集样本数 = % d\"%(X_train.shape[0]))\n",
    "print(\"测试集样本数 = % d\"%(X_test.shape[0]))"
   ]
  },
  {
   "cell_type": "markdown",
   "metadata": {},
   "source": [
    "#### 5.2 定义辅助函数\n",
    "\n",
    "接下来，我们编写用于使用小批量梯度下降，实现线性回归的代码。其中，**`gradientDescent()`** 是主函数，其他函数是辅助函数 ——\n",
    "\n",
    "- **`hypothesis()`：** 用于进行预测\n",
    "- **`gradient()`：** 计算梯度\n",
    "- **`cost()`：** 计算误差\n",
    "- **`create_mini_batches()`：** 创建 Mini Batch\n",
    "\n",
    "主函数将初始化参数，为模型计算最佳的参数集，然后将这些参数以及包含错误历史记录的列表返回，列表将随着参数的更新而更新。"
   ]
  },
  {
   "cell_type": "code",
   "execution_count": 7,
   "metadata": {},
   "outputs": [],
   "source": [
    "# 使用“小批量”梯度下降的线性回归\n",
    "# 计算假设/预测\n",
    "def hypothesis(X, theta):\n",
    "    return np.dot(X, theta)\n",
    "  \n",
    "# 计算误差函数的斜率w.r.t. theta\n",
    "def gradient(X, y, theta):\n",
    "    h = hypothesis(X, theta)\n",
    "    grad = np.dot(X.transpose(), (h - y))\n",
    "    return grad\n",
    "  \n",
    "# 用于计算theta当前值的误差\n",
    "def cost(X, y, theta):\n",
    "    h = hypothesis(X, theta)\n",
    "    J = np.dot((h - y).transpose(), (h - y))\n",
    "    J /= 2\n",
    "    return J[0]\n",
    "  \n",
    "# 创建包含Mini Batch的列表\n",
    "def create_mini_batches(X, y, batch_size):\n",
    "    mini_batches = []\n",
    "    data = np.hstack((X, y))\n",
    "    np.random.shuffle(data)\n",
    "    n_minibatches = data.shape[0] // batch_size\n",
    "    i = 0 \n",
    "    for i in range(n_minibatches + 1):\n",
    "        mini_batch = data[i * batch_size:(i + 1)*batch_size, :]\n",
    "        X_mini = mini_batch[:, :-1]\n",
    "        Y_mini = mini_batch[:, -1].reshape((-1, 1))\n",
    "        mini_batches.append((X_mini, Y_mini))\n",
    "    if data.shape[0] % batch_size != 0:\n",
    "        mini_batch = data[i * batch_size:data.shape[0]]\n",
    "        X_mini = mini_batch[:, :-1]\n",
    "        Y_mini = mini_batch[:, -1].reshape((-1, 1))\n",
    "        mini_batches.append((X_mini, Y_mini))\n",
    "    return mini_batches\n",
    "  \n",
    "# 执行Mini Batch梯度下降\n",
    "def gradientDescent(X, y, learning_rate = 0.001, batch_size = 32):\n",
    "    theta = np.zeros((X.shape[1], 1))\n",
    "    error_list = []\n",
    "    max_iters = 3\n",
    "    for itr in range(max_iters):\n",
    "        mini_batches = create_mini_batches(X, y, batch_size)\n",
    "        for mini_batch in mini_batches:\n",
    "            X_mini, y_mini = mini_batch\n",
    "            theta = theta - learning_rate * gradient(X_mini, y_mini, theta)\n",
    "            error_list.append(cost(X_mini, y_mini, theta))\n",
    "  \n",
    "    return theta, error_list"
   ]
  },
  {
   "cell_type": "markdown",
   "metadata": {},
   "source": [
    "调用 **`gradientDescent()`** 函数，计算模型参数 (theta)，并可视化误差函数的变化。"
   ]
  },
  {
   "cell_type": "code",
   "execution_count": 8,
   "metadata": {},
   "outputs": [
    {
     "name": "stdout",
     "output_type": "stream",
     "text": [
      "Bias =  [0.77435707]\n",
      "Coefficients =  [[1.01651991]]\n"
     ]
    },
    {
     "data": {
      "image/png": "[encoded data removed]",
      "text/plain": [
       "<Figure size 432x288 with 1 Axes>"
      ]
     },
     "metadata": {
      "needs_background": "light"
     },
     "output_type": "display_data"
    }
   ],
   "source": [
    "theta, error_list = gradientDescent(X_train, y_train)\n",
    "print(\"Bias = \", theta[0])\n",
    "print(\"Coefficients = \", theta[1:])\n",
    "  \n",
    "# 可视化梯度下降\n",
    "plt.plot(error_list)\n",
    "plt.xlabel(\"Number of iterations\")\n",
    "plt.ylabel(\"Cost\")\n",
    "plt.show()"
   ]
  },
  {
   "cell_type": "markdown",
   "metadata": {},
   "source": [
    "#### 5.3 计算预测 MAE\n",
    "\n",
    "最后，我们在测试集上进行预测，并计算预测结果的平均绝对误差 MAE。"
   ]
  },
  {
   "cell_type": "code",
   "execution_count": 9,
   "metadata": {},
   "outputs": [
    {
     "data": {
      "image/png": "[encoded data removed]",
      "text/plain": [
       "<Figure size 432x288 with 1 Axes>"
      ]
     },
     "metadata": {
      "needs_background": "light"
     },
     "output_type": "display_data"
    },
    {
     "name": "stdout",
     "output_type": "stream",
     "text": [
      "Mean absolute error =  0.4596452555774919\n"
     ]
    }
   ],
   "source": [
    "# 预测X_test的输出\n",
    "y_pred = hypothesis(X_test, theta)\n",
    "plt.scatter(X_test[:, 1], y_test[:, ], marker = '.')\n",
    "plt.plot(X_test[:, 1], y_pred, color = 'orange')\n",
    "plt.show()\n",
    "  \n",
    "# 计算预测中的误差\n",
    "error = np.sum(np.abs(y_test - y_pred) / y_test.shape[0])\n",
    "print(\"Mean absolute error = \", error)"
   ]
  },
  {
   "cell_type": "markdown",
   "metadata": {},
   "source": [
    "### 实验小结\n",
    "\n",
    "在本实验中，我们基本介绍完了梯度下降法的基本思想和算法流程，并且用 Python 实现了一个简单的梯度下降算法区分数据点的案例。最后，我们开头所提出的场景假设：这个下山的人实际上就代表了反向传播算法，下山的路径其实就代表着算法中一直在寻找的参数 $\\theta$，山上当前点的最陡峭的方向实际上就是代价函数在这一点的梯度方向，场景中观测最陡峭方向所用的工具就是微分。在下一次观测之前的时间就是有我们算法中的学习率 $\\alpha$ 所定义的。可以看到场景假设和梯度下降算法很好的完成了对应。最后，我们通过 mini-batch 梯度下降，实现了线性回归模型的收敛。"
   ]
  }
 ],
 "metadata": {
  "kernelspec": {
   "display_name": "Python 3",
   "language": "python",
   "name": "python3"
  },
  "language_info": {
   "codemirror_mode": {
    "name": "ipython",
    "version": 3
   },
   "file_extension": ".py",
   "mimetype": "text/x-python",
   "name": "python",
   "nbconvert_exporter": "python",
   "pygments_lexer": "ipython3",
   "version": "3.6.9"
  },
  "toc": {
   "base_numbering": 1,
   "nav_menu": {},
   "number_sections": true,
   "sideBar": true,
   "skip_h1_title": false,
   "title_cell": "Table of Contents",
   "title_sidebar": "Contents",
   "toc_cell": false,
   "toc_position": {},
   "toc_section_display": true,
   "toc_window_display": false
  }
 },
 "nbformat": 4,
 "nbformat_minor": 2
}
